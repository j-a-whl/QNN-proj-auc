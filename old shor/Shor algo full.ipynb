{
 "cells": [
  {
   "cell_type": "code",
   "execution_count": 2,
   "metadata": {},
   "outputs": [
    {
     "output_type": "stream",
     "name": "stderr",
     "text": [
      "/Users/JOAW-BOOK/Library/Python/3.8/lib/python/site-packages/qiskit/aqua/operators/operator_globals.py:48: DeprecationWarning: `from_label` is deprecated and will be removed no earlier than 3 months after the release date. Use Pauli(label) instead.\n  X = make_immutable(PrimitiveOp(Pauli.from_label('X')))\n"
     ]
    }
   ],
   "source": [
    "import qiskit\n",
    "\n",
    "from qiskit.aqua.algorithms.factorizers import Shor\n",
    "from qiskit.algorithms import ShorResult\n",
    "from qiskit.utils import QuantumInstance\n",
    "import numpy as np\n",
    "import math\n",
    "from qiskit import QuantumCircuit, Aer, execute\n",
    "from qiskit.tools.visualization import plot_histogram"
   ]
  },
  {
   "cell_type": "markdown",
   "metadata": {},
   "source": [
    "# General background"
   ]
  },
  {
   "cell_type": "markdown",
   "metadata": {},
   "source": [
    "https://quantum-computing.ibm.com/composer/docs/iqx/guide/shors-algorithm\n"
   ]
  },
  {
   "cell_type": "markdown",
   "metadata": {},
   "source": [
    "Task: factor a number N into its prime factors\n",
    "\n",
    "Step 1:\n",
    "convert from a factor finding problem to a period finding problem using the Modular Exponentiation Function\n",
    "https://quantum-computing.ibm.com/composer/docs/iqx/guide/shors-algorithm This takes in the number N and some guess a, divides N with a to get the remainder, and hopes that this function is periodic if u increase the power of a. THis usually happens.\n",
    "\n",
    "Step 2:\n",
    "Quantum Fourier transform takes in this periodic function and tries to find its period r. This is qhere the quantum speed-up happens.\n",
    "\n",
    "Step 3:\n",
    "Now we have a=guess number; r=period of modular exponentiation function; Now:\n",
    "P=a^(r/2)-1\n",
    "Q=a^(r/2)+1\n",
    "P and Q have co-factors in commmon with N"
   ]
  },
  {
   "cell_type": "markdown",
   "metadata": {},
   "source": [
    "# First way for any N, works"
   ]
  },
  {
   "cell_type": "markdown",
   "metadata": {},
   "source": [
    "implementation: https://qiskit.org/documentation/tutorials/algorithms/09_textbook_algorithms.html"
   ]
  },
  {
   "cell_type": "markdown",
   "metadata": {},
   "source": [
    "function documentation:\n",
    "    https://qiskit.org/documentation/stubs/qiskit.aqua.algorithms.Shor.html"
   ]
  },
  {
   "cell_type": "markdown",
   "metadata": {},
   "source": [
    "full implementation by IBM: \n",
    "    https://www.qiskit.org/documentation/_modules/qiskit/algorithms/factorizers/shor.html"
   ]
  },
  {
   "cell_type": "code",
   "execution_count": null,
   "metadata": {},
   "outputs": [],
   "source": [
    "#N: The integer to be factored, has a min. value of 3.\n",
    "       #     a: Any integer that satisfies 1 < a < N and gcd(a, N) = 1.\n",
    "         #   measurement: Boolean flag to indicate if measurement should be included in the circuit.\n",
    "N = 15\n",
    "shor = Shor(N)\n",
    "backend = Aer.get_backend('qasm_simulator')\n",
    "quantum_instance = QuantumInstance(backend, shots=1024) #shots is the number of repetitions of each circuit, for sampling\n",
    "result = shor.run(quantum_instance)\n",
    "print(f\"The list of factors of {N} as computed by the Shor's algorithm is {result['factors'][0]}.\")"
   ]
  },
  {
   "cell_type": "code",
   "execution_count": null,
   "metadata": {},
   "outputs": [],
   "source": [
    "#Space complexity\n",
    "\n",
    "#Note: this implementation of Shor’s algorithm uses 4𝑛+2 qubits\n",
    "#where 𝑛 is the number of bits representing the integer N in binary. \n",
    "#So in practice, for now, this implementation is restricted to factorizing small integers. \n",
    "#Given the above value of N we compute 4𝑛+2below and confirm the size from the actual circuit.\n",
    "print('the number {} takes {} bits to be represented in binary'.format(N,math.ceil(math.log(N,2))))\n",
    "print('the number of qubits Shor uses to factorise it is 4 x {} + 2 = {}'.format(math.ceil(math.log(N, 2)),4 * math.ceil(math.log(N, 2)) + 2))\n",
    "print(f'Actual number of qubits of circuit: {shor.construct_circuit().num_qubits}')\n",
    "\n",
    "#What about time complexity\n",
    "#address shots?\n",
    "#print probabilities?\n",
    "\n",
    "#Let's look at how long it takes to factor a number with this many qubits, increase this in steps to see if the predictions are true for\n",
    "#When it might be possible to break RSA"
   ]
  },
  {
   "cell_type": "markdown",
   "metadata": {},
   "source": [
    "# Second way for any N, works"
   ]
  },
  {
   "cell_type": "markdown",
   "metadata": {},
   "source": [
    "from https://www.youtube.com/watch?v=EdJ7RoWcU48"
   ]
  },
  {
   "cell_type": "code",
   "execution_count": 198,
   "metadata": {},
   "outputs": [
    {
     "data": {
      "text/plain": [
       "{'factors': [[3, 5]], 'total_counts': 59, 'successful_counts': 18}"
      ]
     },
     "execution_count": 198,
     "metadata": {},
     "output_type": "execute_result"
    }
   ],
   "source": [
    "backend=Aer.get_backend('qasm_simulator')\n",
    "quantum_instance=QuantumInstance(backend, shots=1000)\n",
    "my_shor=Shor(N=15,a=2,quantum_instance=quantum_instance)\n",
    "result=Shor.run(my_shor)\n",
    "result #returns successful_counts which tells the number of experiments tried which gave the right factors"
   ]
  },
  {
   "cell_type": "markdown",
   "metadata": {},
   "source": [
    "# Frist way for N=15 in detail, fails\n"
   ]
  },
  {
   "cell_type": "markdown",
   "metadata": {},
   "source": [
    "code: https://www.youtube.com/watch?v=EdJ7RoWcU48"
   ]
  },
  {
   "cell_type": "markdown",
   "metadata": {},
   "source": [
    "paper: https://arxiv.org/pdf/quant-ph/0205095.pdf"
   ]
  },
  {
   "cell_type": "code",
   "execution_count": 126,
   "metadata": {},
   "outputs": [],
   "source": [
    "#Modular exponentiation function, hardcoded for N=15\n",
    "def c_amod15(a, power):\n",
    "    U=QuantumCircuit(4)\n",
    "    for iteration in range(power):\n",
    "        U.swap(2,3)\n",
    "        U.swap(1,2)\n",
    "        U.swap(0,1)\n",
    "        for q in range(4):\n",
    "            U.x(q)\n",
    "    U=U.to_gate()\n",
    "    U.name='%i^%i mod 15' %(1,power)\n",
    "    c_U=U.control()\n",
    "    return c_U"
   ]
  },
  {
   "cell_type": "code",
   "execution_count": 127,
   "metadata": {},
   "outputs": [],
   "source": [
    "n_count=8 #number of qubits counting the exponent\n",
    "a=7 #guess\n",
    "\n"
   ]
  },
  {
   "cell_type": "code",
   "execution_count": 128,
   "metadata": {},
   "outputs": [],
   "source": [
    "#Now the quantum fourier transform circuit\n",
    "def qft_dagger(n):\n",
    "    qc=QuantumCircuit(n)\n",
    "    for qubit in range(n//2):\n",
    "        qc.swap(qubit, n-qubit-1)\n",
    "    for j in range(n):\n",
    "        for m in range(j):\n",
    "            qc.cp(-np.pi/float(2**(j-m)),m,j)\n",
    "        qc.h(j)\n",
    "    qc.name='QFT dagger'\n",
    "    return qc\n",
    "    \n",
    "    "
   ]
  },
  {
   "cell_type": "code",
   "execution_count": 129,
   "metadata": {},
   "outputs": [
    {
     "data": {
      "text/html": [
       "<pre style=\"word-wrap: normal;white-space: pre;background: #fff0;line-height: 1.1;font-family: &quot;Courier New&quot;,Courier,monospace\">      ┌───┐                                                            »\n",
       " q_0: ┤ H ├───────■────────────────────────────────────────────────────»\n",
       "      ├───┤       │                                                    »\n",
       " q_1: ┤ H ├───────┼──────────────■─────────────────────────────────────»\n",
       "      ├───┤       │              │                                     »\n",
       " q_2: ┤ H ├───────┼──────────────┼──────────────■──────────────────────»\n",
       "      ├───┤       │              │              │                      »\n",
       " q_3: ┤ H ├───────┼──────────────┼──────────────┼──────────────■───────»\n",
       "      ├───┤       │              │              │              │       »\n",
       " q_4: ┤ H ├───────┼──────────────┼──────────────┼──────────────┼───────»\n",
       "      ├───┤       │              │              │              │       »\n",
       " q_5: ┤ H ├───────┼──────────────┼──────────────┼──────────────┼───────»\n",
       "      ├───┤       │              │              │              │       »\n",
       " q_6: ┤ H ├───────┼──────────────┼──────────────┼──────────────┼───────»\n",
       "      ├───┤       │              │              │              │       »\n",
       " q_7: ┤ H ├───────┼──────────────┼──────────────┼──────────────┼───────»\n",
       "      └───┘┌──────┴──────┐┌──────┴──────┐┌──────┴──────┐┌──────┴──────┐»\n",
       " q_8: ─────┤0            ├┤0            ├┤0            ├┤0            ├»\n",
       "           │             ││             ││             ││             │»\n",
       " q_9: ─────┤1            ├┤1            ├┤1            ├┤1            ├»\n",
       "           │  1^1 mod 15 ││  1^2 mod 15 ││  1^4 mod 15 ││  1^8 mod 15 │»\n",
       "q_10: ─────┤2            ├┤2            ├┤2            ├┤2            ├»\n",
       "      ┌───┐│             ││             ││             ││             │»\n",
       "q_11: ┤ X ├┤3            ├┤3            ├┤3            ├┤3            ├»\n",
       "      └───┘└─────────────┘└─────────────┘└─────────────┘└─────────────┘»\n",
       " c: 8/═════════════════════════════════════════════════════════════════»\n",
       "                                                                       »\n",
       "«                                                                       »\n",
       "« q_0: ─────────────────────────────────────────────────────────────────»\n",
       "«                                                                       »\n",
       "« q_1: ─────────────────────────────────────────────────────────────────»\n",
       "«                                                                       »\n",
       "« q_2: ─────────────────────────────────────────────────────────────────»\n",
       "«                                                                       »\n",
       "« q_3: ─────────────────────────────────────────────────────────────────»\n",
       "«                                                                       »\n",
       "« q_4: ───────■─────────────────────────────────────────────────────────»\n",
       "«             │                                                         »\n",
       "« q_5: ───────┼───────────────■─────────────────────────────────────────»\n",
       "«             │               │                                         »\n",
       "« q_6: ───────┼───────────────┼───────────────■─────────────────────────»\n",
       "«             │               │               │                         »\n",
       "« q_7: ───────┼───────────────┼───────────────┼────────────────■────────»\n",
       "«      ┌──────┴───────┐┌──────┴───────┐┌──────┴───────┐┌───────┴───────┐»\n",
       "« q_8: ┤0             ├┤0             ├┤0             ├┤0              ├»\n",
       "«      │              ││              ││              ││               │»\n",
       "« q_9: ┤1             ├┤1             ├┤1             ├┤1              ├»\n",
       "«      │  1^16 mod 15 ││  1^32 mod 15 ││  1^64 mod 15 ││  1^128 mod 15 │»\n",
       "«q_10: ┤2             ├┤2             ├┤2             ├┤2              ├»\n",
       "«      │              ││              ││              ││               │»\n",
       "«q_11: ┤3             ├┤3             ├┤3             ├┤3              ├»\n",
       "«      └──────────────┘└──────────────┘└──────────────┘└───────────────┘»\n",
       "« c: 8/═════════════════════════════════════════════════════════════════»\n",
       "«                                                                       »\n",
       "«      ┌─────────────┐┌─┐                     ┌─┐                     \n",
       "« q_0: ┤0            ├┤M├─────────────────────┤M├─────────────────────\n",
       "«      │             │└╥┘┌─┐                  └╥┘┌─┐                  \n",
       "« q_1: ┤1            ├─╫─┤M├───────────────────╫─┤M├──────────────────\n",
       "«      │             │ ║ └╥┘┌─┐                ║ └╥┘┌─┐               \n",
       "« q_2: ┤2            ├─╫──╫─┤M├────────────────╫──╫─┤M├───────────────\n",
       "«      │             │ ║  ║ └╥┘┌─┐             ║  ║ └╥┘┌─┐            \n",
       "« q_3: ┤3            ├─╫──╫──╫─┤M├─────────────╫──╫──╫─┤M├────────────\n",
       "«      │  QFT dagger │ ║  ║  ║ └╥┘┌─┐          ║  ║  ║ └╥┘┌─┐         \n",
       "« q_4: ┤4            ├─╫──╫──╫──╫─┤M├──────────╫──╫──╫──╫─┤M├─────────\n",
       "«      │             │ ║  ║  ║  ║ └╥┘┌─┐       ║  ║  ║  ║ └╥┘┌─┐      \n",
       "« q_5: ┤5            ├─╫──╫──╫──╫──╫─┤M├───────╫──╫──╫──╫──╫─┤M├──────\n",
       "«      │             │ ║  ║  ║  ║  ║ └╥┘┌─┐    ║  ║  ║  ║  ║ └╥┘┌─┐   \n",
       "« q_6: ┤6            ├─╫──╫──╫──╫──╫──╫─┤M├────╫──╫──╫──╫──╫──╫─┤M├───\n",
       "«      │             │ ║  ║  ║  ║  ║  ║ └╥┘┌─┐ ║  ║  ║  ║  ║  ║ └╥┘┌─┐\n",
       "« q_7: ┤7            ├─╫──╫──╫──╫──╫──╫──╫─┤M├─╫──╫──╫──╫──╫──╫──╫─┤M├\n",
       "«      └─────────────┘ ║  ║  ║  ║  ║  ║  ║ └╥┘ ║  ║  ║  ║  ║  ║  ║ └╥┘\n",
       "« q_8: ────────────────╫──╫──╫──╫──╫──╫──╫──╫──╫──╫──╫──╫──╫──╫──╫──╫─\n",
       "«                      ║  ║  ║  ║  ║  ║  ║  ║  ║  ║  ║  ║  ║  ║  ║  ║ \n",
       "« q_9: ────────────────╫──╫──╫──╫──╫──╫──╫──╫──╫──╫──╫──╫──╫──╫──╫──╫─\n",
       "«                      ║  ║  ║  ║  ║  ║  ║  ║  ║  ║  ║  ║  ║  ║  ║  ║ \n",
       "«q_10: ────────────────╫──╫──╫──╫──╫──╫──╫──╫──╫──╫──╫──╫──╫──╫──╫──╫─\n",
       "«                      ║  ║  ║  ║  ║  ║  ║  ║  ║  ║  ║  ║  ║  ║  ║  ║ \n",
       "«q_11: ────────────────╫──╫──╫──╫──╫──╫──╫──╫──╫──╫──╫──╫──╫──╫──╫──╫─\n",
       "«                      ║  ║  ║  ║  ║  ║  ║  ║  ║  ║  ║  ║  ║  ║  ║  ║ \n",
       "« c: 8/════════════════╩══╩══╩══╩══╩══╩══╩══╩══╩══╩══╩══╩══╩══╩══╩══╩═\n",
       "«                      0  1  2  3  4  5  6  7  0  1  2  3  4  5  6  7 </pre>"
      ],
      "text/plain": [
       "      ┌───┐                                                            »\n",
       " q_0: ┤ H ├───────■────────────────────────────────────────────────────»\n",
       "      ├───┤       │                                                    »\n",
       " q_1: ┤ H ├───────┼──────────────■─────────────────────────────────────»\n",
       "      ├───┤       │              │                                     »\n",
       " q_2: ┤ H ├───────┼──────────────┼──────────────■──────────────────────»\n",
       "      ├───┤       │              │              │                      »\n",
       " q_3: ┤ H ├───────┼──────────────┼──────────────┼──────────────■───────»\n",
       "      ├───┤       │              │              │              │       »\n",
       " q_4: ┤ H ├───────┼──────────────┼──────────────┼──────────────┼───────»\n",
       "      ├───┤       │              │              │              │       »\n",
       " q_5: ┤ H ├───────┼──────────────┼──────────────┼──────────────┼───────»\n",
       "      ├───┤       │              │              │              │       »\n",
       " q_6: ┤ H ├───────┼──────────────┼──────────────┼──────────────┼───────»\n",
       "      ├───┤       │              │              │              │       »\n",
       " q_7: ┤ H ├───────┼──────────────┼──────────────┼──────────────┼───────»\n",
       "      └───┘┌──────┴──────┐┌──────┴──────┐┌──────┴──────┐┌──────┴──────┐»\n",
       " q_8: ─────┤0            ├┤0            ├┤0            ├┤0            ├»\n",
       "           │             ││             ││             ││             │»\n",
       " q_9: ─────┤1            ├┤1            ├┤1            ├┤1            ├»\n",
       "           │  1^1 mod 15 ││  1^2 mod 15 ││  1^4 mod 15 ││  1^8 mod 15 │»\n",
       "q_10: ─────┤2            ├┤2            ├┤2            ├┤2            ├»\n",
       "      ┌───┐│             ││             ││             ││             │»\n",
       "q_11: ┤ X ├┤3            ├┤3            ├┤3            ├┤3            ├»\n",
       "      └───┘└─────────────┘└─────────────┘└─────────────┘└─────────────┘»\n",
       " c: 8/═════════════════════════════════════════════════════════════════»\n",
       "                                                                       »\n",
       "«                                                                       »\n",
       "« q_0: ─────────────────────────────────────────────────────────────────»\n",
       "«                                                                       »\n",
       "« q_1: ─────────────────────────────────────────────────────────────────»\n",
       "«                                                                       »\n",
       "« q_2: ─────────────────────────────────────────────────────────────────»\n",
       "«                                                                       »\n",
       "« q_3: ─────────────────────────────────────────────────────────────────»\n",
       "«                                                                       »\n",
       "« q_4: ───────■─────────────────────────────────────────────────────────»\n",
       "«             │                                                         »\n",
       "« q_5: ───────┼───────────────■─────────────────────────────────────────»\n",
       "«             │               │                                         »\n",
       "« q_6: ───────┼───────────────┼───────────────■─────────────────────────»\n",
       "«             │               │               │                         »\n",
       "« q_7: ───────┼───────────────┼───────────────┼────────────────■────────»\n",
       "«      ┌──────┴───────┐┌──────┴───────┐┌──────┴───────┐┌───────┴───────┐»\n",
       "« q_8: ┤0             ├┤0             ├┤0             ├┤0              ├»\n",
       "«      │              ││              ││              ││               │»\n",
       "« q_9: ┤1             ├┤1             ├┤1             ├┤1              ├»\n",
       "«      │  1^16 mod 15 ││  1^32 mod 15 ││  1^64 mod 15 ││  1^128 mod 15 │»\n",
       "«q_10: ┤2             ├┤2             ├┤2             ├┤2              ├»\n",
       "«      │              ││              ││              ││               │»\n",
       "«q_11: ┤3             ├┤3             ├┤3             ├┤3              ├»\n",
       "«      └──────────────┘└──────────────┘└──────────────┘└───────────────┘»\n",
       "« c: 8/═════════════════════════════════════════════════════════════════»\n",
       "«                                                                       »\n",
       "«      ┌─────────────┐┌─┐                     ┌─┐                     \n",
       "« q_0: ┤0            ├┤M├─────────────────────┤M├─────────────────────\n",
       "«      │             │└╥┘┌─┐                  └╥┘┌─┐                  \n",
       "« q_1: ┤1            ├─╫─┤M├───────────────────╫─┤M├──────────────────\n",
       "«      │             │ ║ └╥┘┌─┐                ║ └╥┘┌─┐               \n",
       "« q_2: ┤2            ├─╫──╫─┤M├────────────────╫──╫─┤M├───────────────\n",
       "«      │             │ ║  ║ └╥┘┌─┐             ║  ║ └╥┘┌─┐            \n",
       "« q_3: ┤3            ├─╫──╫──╫─┤M├─────────────╫──╫──╫─┤M├────────────\n",
       "«      │  QFT dagger │ ║  ║  ║ └╥┘┌─┐          ║  ║  ║ └╥┘┌─┐         \n",
       "« q_4: ┤4            ├─╫──╫──╫──╫─┤M├──────────╫──╫──╫──╫─┤M├─────────\n",
       "«      │             │ ║  ║  ║  ║ └╥┘┌─┐       ║  ║  ║  ║ └╥┘┌─┐      \n",
       "« q_5: ┤5            ├─╫──╫──╫──╫──╫─┤M├───────╫──╫──╫──╫──╫─┤M├──────\n",
       "«      │             │ ║  ║  ║  ║  ║ └╥┘┌─┐    ║  ║  ║  ║  ║ └╥┘┌─┐   \n",
       "« q_6: ┤6            ├─╫──╫──╫──╫──╫──╫─┤M├────╫──╫──╫──╫──╫──╫─┤M├───\n",
       "«      │             │ ║  ║  ║  ║  ║  ║ └╥┘┌─┐ ║  ║  ║  ║  ║  ║ └╥┘┌─┐\n",
       "« q_7: ┤7            ├─╫──╫──╫──╫──╫──╫──╫─┤M├─╫──╫──╫──╫──╫──╫──╫─┤M├\n",
       "«      └─────────────┘ ║  ║  ║  ║  ║  ║  ║ └╥┘ ║  ║  ║  ║  ║  ║  ║ └╥┘\n",
       "« q_8: ────────────────╫──╫──╫──╫──╫──╫──╫──╫──╫──╫──╫──╫──╫──╫──╫──╫─\n",
       "«                      ║  ║  ║  ║  ║  ║  ║  ║  ║  ║  ║  ║  ║  ║  ║  ║ \n",
       "« q_9: ────────────────╫──╫──╫──╫──╫──╫──╫──╫──╫──╫──╫──╫──╫──╫──╫──╫─\n",
       "«                      ║  ║  ║  ║  ║  ║  ║  ║  ║  ║  ║  ║  ║  ║  ║  ║ \n",
       "«q_10: ────────────────╫──╫──╫──╫──╫──╫──╫──╫──╫──╫──╫──╫──╫──╫──╫──╫─\n",
       "«                      ║  ║  ║  ║  ║  ║  ║  ║  ║  ║  ║  ║  ║  ║  ║  ║ \n",
       "«q_11: ────────────────╫──╫──╫──╫──╫──╫──╫──╫──╫──╫──╫──╫──╫──╫──╫──╫─\n",
       "«                      ║  ║  ║  ║  ║  ║  ║  ║  ║  ║  ║  ║  ║  ║  ║  ║ \n",
       "« c: 8/════════════════╩══╩══╩══╩══╩══╩══╩══╩══╩══╩══╩══╩══╩══╩══╩══╩═\n",
       "«                      0  1  2  3  4  5  6  7  0  1  2  3  4  5  6  7 "
      ]
     },
     "execution_count": 129,
     "metadata": {},
     "output_type": "execute_result"
    }
   ],
   "source": [
    "qc=QuantumCircuit(n_count +4,n_count)\n",
    "for q in range(n_count):\n",
    "    qc.h(q)\n",
    "\n",
    "qc.x(3+n_count)\n",
    "\n",
    "for q in range(n_count):\n",
    "    qc.append(c_amod15(1,2**q),[q]+[i+n_count for i in range(4)])\n",
    "qc.append(qft_dagger(n_count),range(n_count))\n",
    "\n",
    "qc.measure(range(n_count),range(n_count))\n",
    "qc.measure(range(n_count),range(n_count))\n",
    "\n",
    "qc.draw('text')"
   ]
  },
  {
   "cell_type": "markdown",
   "metadata": {},
   "source": [
    "Looking at the circuit above, we first put the counting qubits into the superposition using the Haddamard gates; then we apply the modular exponentiation function to reduce the problem to period finding; and we do quantum fourier transform and measure in the end. this is a hard coded implementation of the general Shors algo for N=15\n"
   ]
  },
  {
   "cell_type": "code",
   "execution_count": 136,
   "metadata": {},
   "outputs": [
    {
     "data": {
      "image/png": "[encoded data removed]",
      "text/plain": [
       "<Figure size 504x360 with 1 Axes>"
      ]
     },
     "execution_count": 136,
     "metadata": {},
     "output_type": "execute_result"
    }
   ],
   "source": [
    "#now we run the circuit above\n",
    "backend=Aer.get_backend('qasm_simulator')\n",
    "results=execute(qc,backend, shots=2048).result()\n",
    "counts=results.get_counts()\n",
    "plot_histogram(counts)"
   ]
  },
  {
   "cell_type": "markdown",
   "metadata": {},
   "source": [
    "  Now looking at the above, our algo gave us back four possible values for period r, written in binary. There are 7 binaries, so we interpret the solutions as follows: for a given outcome of the four above, translate this into base 10, divide it with 2^8=256, and once this is simplified your answer is 1/r. This way we get r=1,2,4\n",
    "  "
   ]
  },
  {
   "cell_type": "code",
   "execution_count": 146,
   "metadata": {},
   "outputs": [
    {
     "name": "stdout",
     "output_type": "stream",
     "text": [
      "Measured periods:\t0\t1\t2\t3\t"
     ]
    }
   ],
   "source": [
    "# convert and add binary periods to list\n",
    "counts_dec = sorted([int(measured_value[::-1], 2)\n",
    "                     for measured_value in counts])\n",
    "\n",
    "print(\"Measured periods:\", end='\\t')\n",
    "periods=[]\n",
    "for measured_value in counts_dec:\n",
    "    periods.append(measured_value)\n",
    "    print(measured_value, end='\\t')"
   ]
  },
  {
   "cell_type": "code",
   "execution_count": 147,
   "metadata": {},
   "outputs": [
    {
     "name": "stdout",
     "output_type": "stream",
     "text": [
      "Shor's Algorithm Failed. Choose a different 'a'.\n"
     ]
    }
   ],
   "source": [
    "\n",
    "factors = set()\n",
    "\n",
    "for x in periods:\n",
    "    guesses = [math.gcd(int((a ** (measured_value/2))) + 1, N),\n",
    "               math.gcd(int((a ** (measured_value/2))) - 1, N)]\n",
    "    for guess in guesses:\n",
    "        # ignore trivial factors\n",
    "        if guess != 1 and guess != N and N % guess == 0:\n",
    "            factors.add(guess)\n",
    "\n",
    "if len(factors):\n",
    "    P = factors.pop()\n",
    "    Q = factors.pop() if len(factors) else N // P\n",
    "    print(f\"P = {P}\\nQ = {Q}\\n\\n\",\n",
    "          f\"{P} x {Q} = {N}, {P * Q == N}\")\n",
    "else:\n",
    "    print(\"Shor's Algorithm Failed. Choose a different 'a'.\")"
   ]
  },
  {
   "cell_type": "markdown",
   "metadata": {},
   "source": [
    "# Second way for N=15 in detail, works"
   ]
  },
  {
   "cell_type": "markdown",
   "metadata": {},
   "source": [
    "https://medium.com/qiskit/applying-shors-algorithm-bbdfd6f05f7d"
   ]
  },
  {
   "cell_type": "code",
   "execution_count": 6,
   "metadata": {},
   "outputs": [
    {
     "output_type": "stream",
     "name": "stdout",
     "text": [
      "1 < 7 < 15, True\n"
     ]
    }
   ],
   "source": [
    "from numpy.random import seed, randint\n",
    "# imports for RSA\n",
    "from numpy import gcd\n",
    "from numpy.random import seed, randint\n",
    "# imports for Shor\n",
    "from qiskit import QuantumCircuit, Aer, execute\n",
    "from qiskit.visualization import plot_histogram\n",
    "from qiskit.circuit.library import QFT\n",
    "seed(1)\n",
    "N = 15\n",
    "a = randint(2, N) # 1 < a < N\n",
    "\n",
    "if math.gcd(a, N) == 1: # a shares no factors\n",
    "    print(f\"{1} < {a} < {N}, {1 < a < N}\")\n",
    "else: # a shares a factor\n",
    "    P = gcd(a, N)\n",
    "    Q = N // gcd(a, N)\n",
    "    print(f\"P = {P}\\nQ = {Q}\\n\\n\",\n",
    "          f\"{P} x {Q} = {N}, {P * Q == N}\\n\")"
   ]
  },
  {
   "cell_type": "code",
   "execution_count": 7,
   "metadata": {},
   "outputs": [],
   "source": [
    "def initialize_qubits(qc, n, m):\n",
    "    qc.h(range(n)) # apply hadamard gates\n",
    "    qc.x(n+m-1) # set qubit to 1"
   ]
  },
  {
   "cell_type": "code",
   "execution_count": 8,
   "metadata": {},
   "outputs": [
    {
     "output_type": "stream",
     "name": "stdout",
     "text": [
      "Which in your case is\n\tU(x) = a^x mod 15\n"
     ]
    }
   ],
   "source": [
    "print(f\"Which in your case is\\n\\tU(x) = a^x mod {N}\")\n",
    "def a_x_mod15(a, x):\n",
    "    if a not in [2,7,8,11,13]:\n",
    "        raise ValueError(\"'a' must be 2,7,8,11 or 13\")\n",
    "    U = QuantumCircuit(4)        \n",
    "    for iteration in range(x):\n",
    "        if a in [2,13]:\n",
    "            U.swap(0,1)\n",
    "            U.swap(1,2)\n",
    "            U.swap(2,3)\n",
    "        if a in [7,8]:\n",
    "            U.swap(2,3)\n",
    "            U.swap(1,2)\n",
    "            U.swap(0,1)\n",
    "        if a == 11:\n",
    "            U.swap(1,3)\n",
    "            U.swap(0,2)\n",
    "        if a in [7,11,13]:\n",
    "            for q in range(4):\n",
    "                U.x(q)\n",
    "    U = U.to_gate()\n",
    "    U.name = f\"U({x})\"\n",
    "    c_U = U.control()\n",
    "    return c_U\n",
    "def modular_exponentiation(qc, n, m, a):\n",
    "    for x in range(n):\n",
    "        exponent = 2**x\n",
    "        qc.append(a_x_mod15(a, exponent), \n",
    "                     [x] + list(range(n, n+m)))"
   ]
  },
  {
   "cell_type": "code",
   "execution_count": 9,
   "metadata": {},
   "outputs": [],
   "source": [
    "def apply_iqft(qc, measurement_qubits):\n",
    "    qc.append(QFT(len(measurement_qubits),\n",
    "                             do_swaps=False).inverse(),\n",
    "                         measurement_qubits)"
   ]
  },
  {
   "cell_type": "code",
   "execution_count": 10,
   "metadata": {},
   "outputs": [],
   "source": [
    "def measure(qc, n):\n",
    "    qc.measure(n, n)"
   ]
  },
  {
   "cell_type": "code",
   "execution_count": 11,
   "metadata": {},
   "outputs": [],
   "source": [
    "def period_finder(n, m, a):\n",
    "    \n",
    "    # set up quantum circuit\n",
    "    qc = QuantumCircuit(n+m, n)\n",
    "    \n",
    "    # initialize the qubits\n",
    "    initialize_qubits(qc, n, m)\n",
    "    qc.barrier()\n",
    "\n",
    "    # apply modular exponentiation\n",
    "    modular_exponentiation(qc, n, m, a)\n",
    "    qc.barrier()\n",
    "\n",
    "    # apply inverse QFT\n",
    "    apply_iqft(qc, range(n))\n",
    "    qc.barrier()\n",
    "\n",
    "    # measure the n measurement qubits\n",
    "    measure(qc, range(n))\n",
    "    \n",
    "    return qc"
   ]
  },
  {
   "cell_type": "code",
   "execution_count": 12,
   "metadata": {},
   "outputs": [
    {
     "output_type": "execute_result",
     "data": {
      "text/plain": [
       "<Figure size 869.197x565.88 with 1 Axes>"
      ],
      "image/svg+xml": "<?xml version=\"1.0\" encoding=\"utf-8\" standalone=\"no\"?>\n<!DOCTYPE svg PUBLIC \"-//W3C//DTD SVG 1.1//EN\"\n  \"http://www.w3.org/Graphics/SVG/1.1/DTD/svg11.dtd\">\n<!-- Created with matplotlib (https://matplotlib.org/) -->\n<svg height=\"441.6394pt\" version=\"1.1\" viewBox=\"0 0 670.644036 441.6394\" width=\"670.644036pt\" xmlns=\"http://www.w3.org/2000/svg\" xmlns:xlink=\"http://www.w3.org/1999/xlink\">\n <metadata>\n  <rdf:RDF xmlns:cc=\"http://creativecommons.org/ns#\" xmlns:dc=\"http://purl.org/dc/elements/1.1/\" xmlns:rdf=\"http://www.w3.org/1999/02/22-rdf-syntax-ns#\">\n   <cc:Work>\n    <dc:type rdf:resource=\"http://purl.org/dc/dcmitype/StillImage\"/>\n    <dc:date>2021-05-26T17:18:06.855210</dc:date>\n    <dc:format>image/svg+xml</dc:format>\n    <dc:creator>\n     <cc:Agent>\n      <dc:title>Matplotlib v3.3.2, https://matplotlib.org/</dc:title>\n     </cc:Agent>\n    </dc:creator>\n   </cc:Work>\n  </rdf:RDF>\n </metadata>\n <defs>\n  <style type=\"text/css\">*{stroke-linecap:butt;stroke-linejoin:round;}</style>\n </defs>\n <g id=\"figure_1\">\n  <g id=\"patch_1\">\n   <path d=\"M 0 441.6394 \nL 670.644036 441.6394 \nL 670.644036 0 \nL 0 0 \nz\n\" style=\"fill:#ffffff;\"/>\n  </g>\n  <g id=\"axes_1\">\n   <g id=\"patch_2\">\n    <path clip-path=\"url(#p9cbfaed952)\" d=\"M 491.184746 396.828698 \nL 503.002006 396.828698 \nL 497.093376 405.35076 \nz\n\" style=\"fill:#778899;\"/>\n   </g>\n   <g id=\"patch_3\">\n    <path clip-path=\"url(#p9cbfaed952)\" d=\"M 536.635746 396.828698 \nL 548.453006 396.828698 \nL 542.544376 405.35076 \nz\n\" style=\"fill:#778899;\"/>\n   </g>\n   <g id=\"patch_4\">\n    <path clip-path=\"url(#p9cbfaed952)\" d=\"M 582.086746 396.828698 \nL 593.904006 396.828698 \nL 587.995376 405.35076 \nz\n\" style=\"fill:#778899;\"/>\n   </g>\n   <g id=\"patch_5\">\n    <path clip-path=\"url(#p9cbfaed952)\" d=\"M 627.537746 396.828698 \nL 639.355006 396.828698 \nL 633.446376 405.35076 \nz\n\" style=\"fill:#778899;\"/>\n   </g>\n   <g id=\"line2d_1\">\n    <path clip-path=\"url(#p9cbfaed952)\" d=\"M 63.490836 43.5608 \nL 658.898936 43.5608 \n\" style=\"fill:none;stroke:#000000;stroke-linecap:square;stroke-width:2;\"/>\n   </g>\n   <g id=\"line2d_2\">\n    <path clip-path=\"url(#p9cbfaed952)\" d=\"M 63.490836 89.0118 \nL 658.898936 89.0118 \n\" style=\"fill:none;stroke:#000000;stroke-linecap:square;stroke-width:2;\"/>\n   </g>\n   <g id=\"line2d_3\">\n    <path clip-path=\"url(#p9cbfaed952)\" d=\"M 63.490836 134.4628 \nL 658.898936 134.4628 \n\" style=\"fill:none;stroke:#000000;stroke-linecap:square;stroke-width:2;\"/>\n   </g>\n   <g id=\"line2d_4\">\n    <path clip-path=\"url(#p9cbfaed952)\" d=\"M 63.490836 179.9138 \nL 658.898936 179.9138 \n\" style=\"fill:none;stroke:#000000;stroke-linecap:square;stroke-width:2;\"/>\n   </g>\n   <g id=\"line2d_5\">\n    <path clip-path=\"url(#p9cbfaed952)\" d=\"M 63.490836 225.3648 \nL 658.898936 225.3648 \n\" style=\"fill:none;stroke:#000000;stroke-linecap:square;stroke-width:2;\"/>\n   </g>\n   <g id=\"line2d_6\">\n    <path clip-path=\"url(#p9cbfaed952)\" d=\"M 63.490836 270.8158 \nL 658.898936 270.8158 \n\" style=\"fill:none;stroke:#000000;stroke-linecap:square;stroke-width:2;\"/>\n   </g>\n   <g id=\"line2d_7\">\n    <path clip-path=\"url(#p9cbfaed952)\" d=\"M 63.490836 316.2668 \nL 658.898936 316.2668 \n\" style=\"fill:none;stroke:#000000;stroke-linecap:square;stroke-width:2;\"/>\n   </g>\n   <g id=\"line2d_8\">\n    <path clip-path=\"url(#p9cbfaed952)\" d=\"M 63.490836 361.7178 \nL 658.898936 361.7178 \n\" style=\"fill:none;stroke:#000000;stroke-linecap:square;stroke-width:2;\"/>\n   </g>\n   <g id=\"line2d_9\">\n    <path clip-path=\"url(#p9cbfaed952)\" d=\"M 63.490836 405.691643 \nL 658.898936 405.691643 \n\" style=\"fill:none;stroke:#778899;stroke-linecap:square;stroke-width:2;\"/>\n   </g>\n   <g id=\"line2d_10\">\n    <path clip-path=\"url(#p9cbfaed952)\" d=\"M 63.490836 408.645958 \nL 658.898936 408.645958 \n\" style=\"fill:none;stroke:#778899;stroke-linecap:square;stroke-width:2;\"/>\n   </g>\n   <g id=\"patch_6\">\n    <path clip-path=\"url(#p9cbfaed952)\" d=\"M 124.622431 66.2863 \nL 142.348321 66.2863 \nL 142.348321 20.8353 \nL 124.622431 20.8353 \nz\n\" style=\"fill:#bdbdbd;opacity:0.6;\"/>\n   </g>\n   <g id=\"patch_7\">\n    <path clip-path=\"url(#p9cbfaed952)\" d=\"M 124.622431 111.7373 \nL 142.348321 111.7373 \nL 142.348321 66.2863 \nL 124.622431 66.2863 \nz\n\" style=\"fill:#bdbdbd;opacity:0.6;\"/>\n   </g>\n   <g id=\"patch_8\">\n    <path clip-path=\"url(#p9cbfaed952)\" d=\"M 124.622431 157.1883 \nL 142.348321 157.1883 \nL 142.348321 111.7373 \nL 124.622431 111.7373 \nz\n\" style=\"fill:#bdbdbd;opacity:0.6;\"/>\n   </g>\n   <g id=\"patch_9\">\n    <path clip-path=\"url(#p9cbfaed952)\" d=\"M 124.622431 202.6393 \nL 142.348321 202.6393 \nL 142.348321 157.1883 \nL 124.622431 157.1883 \nz\n\" style=\"fill:#bdbdbd;opacity:0.6;\"/>\n   </g>\n   <g id=\"patch_10\">\n    <path clip-path=\"url(#p9cbfaed952)\" d=\"M 124.622431 248.0903 \nL 142.348321 248.0903 \nL 142.348321 202.6393 \nL 124.622431 202.6393 \nz\n\" style=\"fill:#bdbdbd;opacity:0.6;\"/>\n   </g>\n   <g id=\"patch_11\">\n    <path clip-path=\"url(#p9cbfaed952)\" d=\"M 124.622431 293.5413 \nL 142.348321 293.5413 \nL 142.348321 248.0903 \nL 124.622431 248.0903 \nz\n\" style=\"fill:#bdbdbd;opacity:0.6;\"/>\n   </g>\n   <g id=\"patch_12\">\n    <path clip-path=\"url(#p9cbfaed952)\" d=\"M 124.622431 338.9923 \nL 142.348321 338.9923 \nL 142.348321 293.5413 \nL 124.622431 293.5413 \nz\n\" style=\"fill:#bdbdbd;opacity:0.6;\"/>\n   </g>\n   <g id=\"patch_13\">\n    <path clip-path=\"url(#p9cbfaed952)\" d=\"M 124.622431 384.4433 \nL 142.348321 384.4433 \nL 142.348321 338.9923 \nL 124.622431 338.9923 \nz\n\" style=\"fill:#bdbdbd;opacity:0.6;\"/>\n   </g>\n   <g id=\"patch_14\">\n    <path clip-path=\"url(#p9cbfaed952)\" d=\"M 351.877431 66.2863 \nL 369.603321 66.2863 \nL 369.603321 20.8353 \nL 351.877431 20.8353 \nz\n\" style=\"fill:#bdbdbd;opacity:0.6;\"/>\n   </g>\n   <g id=\"patch_15\">\n    <path clip-path=\"url(#p9cbfaed952)\" d=\"M 351.877431 111.7373 \nL 369.603321 111.7373 \nL 369.603321 66.2863 \nL 351.877431 66.2863 \nz\n\" style=\"fill:#bdbdbd;opacity:0.6;\"/>\n   </g>\n   <g id=\"patch_16\">\n    <path clip-path=\"url(#p9cbfaed952)\" d=\"M 351.877431 157.1883 \nL 369.603321 157.1883 \nL 369.603321 111.7373 \nL 351.877431 111.7373 \nz\n\" style=\"fill:#bdbdbd;opacity:0.6;\"/>\n   </g>\n   <g id=\"patch_17\">\n    <path clip-path=\"url(#p9cbfaed952)\" d=\"M 351.877431 202.6393 \nL 369.603321 202.6393 \nL 369.603321 157.1883 \nL 351.877431 157.1883 \nz\n\" style=\"fill:#bdbdbd;opacity:0.6;\"/>\n   </g>\n   <g id=\"patch_18\">\n    <path clip-path=\"url(#p9cbfaed952)\" d=\"M 351.877431 248.0903 \nL 369.603321 248.0903 \nL 369.603321 202.6393 \nL 351.877431 202.6393 \nz\n\" style=\"fill:#bdbdbd;opacity:0.6;\"/>\n   </g>\n   <g id=\"patch_19\">\n    <path clip-path=\"url(#p9cbfaed952)\" d=\"M 351.877431 293.5413 \nL 369.603321 293.5413 \nL 369.603321 248.0903 \nL 351.877431 248.0903 \nz\n\" style=\"fill:#bdbdbd;opacity:0.6;\"/>\n   </g>\n   <g id=\"patch_20\">\n    <path clip-path=\"url(#p9cbfaed952)\" d=\"M 351.877431 338.9923 \nL 369.603321 338.9923 \nL 369.603321 293.5413 \nL 351.877431 293.5413 \nz\n\" style=\"fill:#bdbdbd;opacity:0.6;\"/>\n   </g>\n   <g id=\"patch_21\">\n    <path clip-path=\"url(#p9cbfaed952)\" d=\"M 351.877431 384.4433 \nL 369.603321 384.4433 \nL 369.603321 338.9923 \nL 351.877431 338.9923 \nz\n\" style=\"fill:#bdbdbd;opacity:0.6;\"/>\n   </g>\n   <g id=\"patch_22\">\n    <path clip-path=\"url(#p9cbfaed952)\" d=\"M 442.779431 66.2863 \nL 460.505321 66.2863 \nL 460.505321 20.8353 \nL 442.779431 20.8353 \nz\n\" style=\"fill:#bdbdbd;opacity:0.6;\"/>\n   </g>\n   <g id=\"patch_23\">\n    <path clip-path=\"url(#p9cbfaed952)\" d=\"M 442.779431 111.7373 \nL 460.505321 111.7373 \nL 460.505321 66.2863 \nL 442.779431 66.2863 \nz\n\" style=\"fill:#bdbdbd;opacity:0.6;\"/>\n   </g>\n   <g id=\"patch_24\">\n    <path clip-path=\"url(#p9cbfaed952)\" d=\"M 442.779431 157.1883 \nL 460.505321 157.1883 \nL 460.505321 111.7373 \nL 442.779431 111.7373 \nz\n\" style=\"fill:#bdbdbd;opacity:0.6;\"/>\n   </g>\n   <g id=\"patch_25\">\n    <path clip-path=\"url(#p9cbfaed952)\" d=\"M 442.779431 202.6393 \nL 460.505321 202.6393 \nL 460.505321 157.1883 \nL 442.779431 157.1883 \nz\n\" style=\"fill:#bdbdbd;opacity:0.6;\"/>\n   </g>\n   <g id=\"patch_26\">\n    <path clip-path=\"url(#p9cbfaed952)\" d=\"M 442.779431 248.0903 \nL 460.505321 248.0903 \nL 460.505321 202.6393 \nL 442.779431 202.6393 \nz\n\" style=\"fill:#bdbdbd;opacity:0.6;\"/>\n   </g>\n   <g id=\"patch_27\">\n    <path clip-path=\"url(#p9cbfaed952)\" d=\"M 442.779431 293.5413 \nL 460.505321 293.5413 \nL 460.505321 248.0903 \nL 442.779431 248.0903 \nz\n\" style=\"fill:#bdbdbd;opacity:0.6;\"/>\n   </g>\n   <g id=\"patch_28\">\n    <path clip-path=\"url(#p9cbfaed952)\" d=\"M 442.779431 338.9923 \nL 460.505321 338.9923 \nL 460.505321 293.5413 \nL 442.779431 293.5413 \nz\n\" style=\"fill:#bdbdbd;opacity:0.6;\"/>\n   </g>\n   <g id=\"patch_29\">\n    <path clip-path=\"url(#p9cbfaed952)\" d=\"M 442.779431 384.4433 \nL 460.505321 384.4433 \nL 460.505321 338.9923 \nL 442.779431 338.9923 \nz\n\" style=\"fill:#bdbdbd;opacity:0.6;\"/>\n   </g>\n   <g id=\"line2d_11\">\n    <path clip-path=\"url(#p9cbfaed952)\" d=\"M 178.936376 361.7178 \nL 178.936376 43.5608 \n\" style=\"fill:none;stroke:#bb8bff;stroke-linecap:square;stroke-width:2;\"/>\n   </g>\n   <g id=\"line2d_12\">\n    <path clip-path=\"url(#p9cbfaed952)\" d=\"M 224.387376 361.7178 \nL 224.387376 89.0118 \n\" style=\"fill:none;stroke:#bb8bff;stroke-linecap:square;stroke-width:2;\"/>\n   </g>\n   <g id=\"line2d_13\">\n    <path clip-path=\"url(#p9cbfaed952)\" d=\"M 269.838376 361.7178 \nL 269.838376 134.4628 \n\" style=\"fill:none;stroke:#bb8bff;stroke-linecap:square;stroke-width:2;\"/>\n   </g>\n   <g id=\"line2d_14\">\n    <path clip-path=\"url(#p9cbfaed952)\" d=\"M 315.289376 361.7178 \nL 315.289376 179.9138 \n\" style=\"fill:none;stroke:#bb8bff;stroke-linecap:square;stroke-width:2;\"/>\n   </g>\n   <g id=\"line2d_15\">\n    <path clip-path=\"url(#p9cbfaed952)\" d=\"M 498.570534 43.5608 \nL 498.570534 396.828698 \n\" style=\"fill:none;stroke:#778899;stroke-linecap:square;stroke-width:2;\"/>\n   </g>\n   <g id=\"line2d_16\">\n    <path clip-path=\"url(#p9cbfaed952)\" d=\"M 495.616219 43.5608 \nL 495.616219 396.828698 \n\" style=\"fill:none;stroke:#778899;stroke-linecap:square;stroke-width:2;\"/>\n   </g>\n   <g id=\"line2d_17\">\n    <path clip-path=\"url(#p9cbfaed952)\" d=\"M 544.021534 89.0118 \nL 544.021534 396.828698 \n\" style=\"fill:none;stroke:#778899;stroke-linecap:square;stroke-width:2;\"/>\n   </g>\n   <g id=\"line2d_18\">\n    <path clip-path=\"url(#p9cbfaed952)\" d=\"M 541.067219 89.0118 \nL 541.067219 396.828698 \n\" style=\"fill:none;stroke:#778899;stroke-linecap:square;stroke-width:2;\"/>\n   </g>\n   <g id=\"line2d_19\">\n    <path clip-path=\"url(#p9cbfaed952)\" d=\"M 589.472534 134.4628 \nL 589.472534 396.828698 \n\" style=\"fill:none;stroke:#778899;stroke-linecap:square;stroke-width:2;\"/>\n   </g>\n   <g id=\"line2d_20\">\n    <path clip-path=\"url(#p9cbfaed952)\" d=\"M 586.518219 134.4628 \nL 586.518219 396.828698 \n\" style=\"fill:none;stroke:#778899;stroke-linecap:square;stroke-width:2;\"/>\n   </g>\n   <g id=\"line2d_21\">\n    <path clip-path=\"url(#p9cbfaed952)\" d=\"M 634.923534 179.9138 \nL 634.923534 396.828698 \n\" style=\"fill:none;stroke:#778899;stroke-linecap:square;stroke-width:2;\"/>\n   </g>\n   <g id=\"line2d_22\">\n    <path clip-path=\"url(#p9cbfaed952)\" d=\"M 631.969219 179.9138 \nL 631.969219 396.828698 \n\" style=\"fill:none;stroke:#778899;stroke-linecap:square;stroke-width:2;\"/>\n   </g>\n   <g id=\"line2d_23\">\n    <path clip-path=\"url(#p9cbfaed952)\" d=\"M 72.581036 411.7139 \nL 77.126136 402.6237 \n\" style=\"fill:none;stroke:#778899;stroke-linecap:square;stroke-width:1.5;\"/>\n   </g>\n   <g id=\"patch_30\">\n    <path clip-path=\"url(#p9cbfaed952)\" d=\"M 73.262801 58.332375 \nL 102.805951 58.332375 \nL 102.805951 28.789225 \nL 73.262801 28.789225 \nz\n\" style=\"fill:#6fa4ff;stroke:#6fa4ff;stroke-linejoin:miter;stroke-width:1.5;\"/>\n   </g>\n   <g id=\"patch_31\">\n    <path clip-path=\"url(#p9cbfaed952)\" d=\"M 73.262801 103.783375 \nL 102.805951 103.783375 \nL 102.805951 74.240225 \nL 73.262801 74.240225 \nz\n\" style=\"fill:#6fa4ff;stroke:#6fa4ff;stroke-linejoin:miter;stroke-width:1.5;\"/>\n   </g>\n   <g id=\"patch_32\">\n    <path clip-path=\"url(#p9cbfaed952)\" d=\"M 73.262801 149.234375 \nL 102.805951 149.234375 \nL 102.805951 119.691225 \nL 73.262801 119.691225 \nz\n\" style=\"fill:#6fa4ff;stroke:#6fa4ff;stroke-linejoin:miter;stroke-width:1.5;\"/>\n   </g>\n   <g id=\"patch_33\">\n    <path clip-path=\"url(#p9cbfaed952)\" d=\"M 73.262801 194.685375 \nL 102.805951 194.685375 \nL 102.805951 165.142225 \nL 73.262801 165.142225 \nz\n\" style=\"fill:#6fa4ff;stroke:#6fa4ff;stroke-linejoin:miter;stroke-width:1.5;\"/>\n   </g>\n   <g id=\"patch_34\">\n    <path clip-path=\"url(#p9cbfaed952)\" d=\"M 73.262801 376.489375 \nL 102.805951 376.489375 \nL 102.805951 346.946225 \nL 73.262801 346.946225 \nz\n\" style=\"fill:#05bab6;stroke:#05bab6;stroke-linejoin:miter;stroke-width:1.5;\"/>\n   </g>\n   <g id=\"patch_35\">\n    <path clip-path=\"url(#p9cbfaed952)\" d=\"M 178.936376 47.992273 \nC 180.111616 47.992273 181.23888 47.525345 182.069901 46.694324 \nC 182.900921 45.863304 183.367849 44.73604 183.367849 43.5608 \nC 183.367849 42.38556 182.900921 41.258296 182.069901 40.427276 \nC 181.23888 39.596255 180.111616 39.129328 178.936376 39.129328 \nC 177.761136 39.129328 176.633872 39.596255 175.802852 40.427276 \nC 174.971832 41.258296 174.504904 42.38556 174.504904 43.5608 \nC 174.504904 44.73604 174.971832 45.863304 175.802852 46.694324 \nC 176.633872 47.525345 177.761136 47.992273 178.936376 47.992273 \nz\n\" style=\"fill:#bb8bff;stroke:#bb8bff;stroke-linejoin:miter;stroke-width:1.5;\"/>\n   </g>\n   <g id=\"patch_36\">\n    <path clip-path=\"url(#p9cbfaed952)\" d=\"M 159.533344 376.489375 \nL 198.339408 376.489375 \nL 198.339408 210.593225 \nL 159.533344 210.593225 \nz\n\" style=\"fill:#bb8bff;stroke:#bb8bff;stroke-linejoin:miter;stroke-width:1.5;\"/>\n   </g>\n   <g id=\"patch_37\">\n    <path clip-path=\"url(#p9cbfaed952)\" d=\"M 224.387376 93.443273 \nC 225.562616 93.443273 226.68988 92.976345 227.520901 92.145324 \nC 228.351921 91.314304 228.818849 90.18704 228.818849 89.0118 \nC 228.818849 87.83656 228.351921 86.709296 227.520901 85.878276 \nC 226.68988 85.047255 225.562616 84.580328 224.387376 84.580328 \nC 223.212136 84.580328 222.084872 85.047255 221.253852 85.878276 \nC 220.422832 86.709296 219.955904 87.83656 219.955904 89.0118 \nC 219.955904 90.18704 220.422832 91.314304 221.253852 92.145324 \nC 222.084872 92.976345 223.212136 93.443273 224.387376 93.443273 \nz\n\" style=\"fill:#bb8bff;stroke:#bb8bff;stroke-linejoin:miter;stroke-width:1.5;\"/>\n   </g>\n   <g id=\"patch_38\">\n    <path clip-path=\"url(#p9cbfaed952)\" d=\"M 204.936621 376.489375 \nL 243.838132 376.489375 \nL 243.838132 210.593225 \nL 204.936621 210.593225 \nz\n\" style=\"fill:#bb8bff;stroke:#bb8bff;stroke-linejoin:miter;stroke-width:1.5;\"/>\n   </g>\n   <g id=\"patch_39\">\n    <path clip-path=\"url(#p9cbfaed952)\" d=\"M 269.838376 138.894273 \nC 271.013616 138.894273 272.14088 138.427345 272.971901 137.596324 \nC 273.802921 136.765304 274.269849 135.63804 274.269849 134.4628 \nC 274.269849 133.28756 273.802921 132.160296 272.971901 131.329276 \nC 272.14088 130.498255 271.013616 130.031328 269.838376 130.031328 \nC 268.663136 130.031328 267.535872 130.498255 266.704852 131.329276 \nC 265.873832 132.160296 265.406904 133.28756 265.406904 134.4628 \nC 265.406904 135.63804 265.873832 136.765304 266.704852 137.596324 \nC 267.535872 138.427345 268.663136 138.894273 269.838376 138.894273 \nz\n\" style=\"fill:#bb8bff;stroke:#bb8bff;stroke-linejoin:miter;stroke-width:1.5;\"/>\n   </g>\n   <g id=\"patch_40\">\n    <path clip-path=\"url(#p9cbfaed952)\" d=\"M 250.387621 376.489375 \nL 289.289132 376.489375 \nL 289.289132 210.593225 \nL 250.387621 210.593225 \nz\n\" style=\"fill:#bb8bff;stroke:#bb8bff;stroke-linejoin:miter;stroke-width:1.5;\"/>\n   </g>\n   <g id=\"patch_41\">\n    <path clip-path=\"url(#p9cbfaed952)\" d=\"M 315.289376 184.345273 \nC 316.464616 184.345273 317.59188 183.878345 318.422901 183.047324 \nC 319.253921 182.216304 319.720849 181.08904 319.720849 179.9138 \nC 319.720849 178.73856 319.253921 177.611296 318.422901 176.780276 \nC 317.59188 175.949255 316.464616 175.482328 315.289376 175.482328 \nC 314.114136 175.482328 312.986872 175.949255 312.155852 176.780276 \nC 311.324832 177.611296 310.857904 178.73856 310.857904 179.9138 \nC 310.857904 181.08904 311.324832 182.216304 312.155852 183.047324 \nC 312.986872 183.878345 314.114136 184.345273 315.289376 184.345273 \nz\n\" style=\"fill:#bb8bff;stroke:#bb8bff;stroke-linejoin:miter;stroke-width:1.5;\"/>\n   </g>\n   <g id=\"patch_42\">\n    <path clip-path=\"url(#p9cbfaed952)\" d=\"M 295.886344 376.489375 \nL 334.692408 376.489375 \nL 334.692408 210.593225 \nL 295.886344 210.593225 \nz\n\" style=\"fill:#bb8bff;stroke:#bb8bff;stroke-linejoin:miter;stroke-width:1.5;\"/>\n   </g>\n   <g id=\"patch_43\">\n    <path clip-path=\"url(#p9cbfaed952)\" d=\"M 390.149446 194.685375 \nL 422.233307 194.685375 \nL 422.233307 28.789225 \nL 390.149446 28.789225 \nz\n\" style=\"fill:#bb8bff;stroke:#bb8bff;stroke-linejoin:miter;stroke-width:1.5;\"/>\n   </g>\n   <g id=\"patch_44\">\n    <path clip-path=\"url(#p9cbfaed952)\" d=\"M 482.321801 58.332375 \nL 511.864951 58.332375 \nL 511.864951 28.789225 \nL 482.321801 28.789225 \nz\n\" style=\"stroke:#000000;stroke-linejoin:miter;stroke-width:1.5;\"/>\n   </g>\n   <g id=\"patch_45\">\n    <path clip-path=\"url(#p9cbfaed952)\" d=\"M 507.433479 47.992273 \nC 507.433479 45.250959 506.343335 42.619118 504.404933 40.680716 \nC 502.466531 38.742314 499.83469 37.65217 497.093376 37.65217 \nC 494.352062 37.65217 491.720221 38.742314 489.78182 40.680716 \nC 487.843418 42.619118 486.753274 45.250959 486.753274 47.992273 \n\" style=\"fill:none;stroke:#ffffff;stroke-linejoin:miter;stroke-width:2;\"/>\n   </g>\n   <g id=\"patch_46\">\n    <path clip-path=\"url(#p9cbfaed952)\" d=\"M 527.772801 103.783375 \nL 557.315951 103.783375 \nL 557.315951 74.240225 \nL 527.772801 74.240225 \nz\n\" style=\"stroke:#000000;stroke-linejoin:miter;stroke-width:1.5;\"/>\n   </g>\n   <g id=\"patch_47\">\n    <path clip-path=\"url(#p9cbfaed952)\" d=\"M 552.884479 93.443273 \nC 552.884479 90.701959 551.794335 88.070118 549.855933 86.131716 \nC 547.917531 84.193314 545.28569 83.10317 542.544376 83.10317 \nC 539.803062 83.10317 537.171221 84.193314 535.23282 86.131716 \nC 533.294418 88.070118 532.204274 90.701959 532.204274 93.443273 \n\" style=\"fill:none;stroke:#ffffff;stroke-linejoin:miter;stroke-width:2;\"/>\n   </g>\n   <g id=\"patch_48\">\n    <path clip-path=\"url(#p9cbfaed952)\" d=\"M 573.223801 149.234375 \nL 602.766951 149.234375 \nL 602.766951 119.691225 \nL 573.223801 119.691225 \nz\n\" style=\"stroke:#000000;stroke-linejoin:miter;stroke-width:1.5;\"/>\n   </g>\n   <g id=\"patch_49\">\n    <path clip-path=\"url(#p9cbfaed952)\" d=\"M 598.335479 138.894273 \nC 598.335479 136.152959 597.245335 133.521118 595.306933 131.582716 \nC 593.368531 129.644314 590.73669 128.55417 587.995376 128.55417 \nC 585.254062 128.55417 582.622221 129.644314 580.68382 131.582716 \nC 578.745418 133.521118 577.655274 136.152959 577.655274 138.894273 \n\" style=\"fill:none;stroke:#ffffff;stroke-linejoin:miter;stroke-width:2;\"/>\n   </g>\n   <g id=\"patch_50\">\n    <path clip-path=\"url(#p9cbfaed952)\" d=\"M 618.674801 194.685375 \nL 648.217951 194.685375 \nL 648.217951 165.142225 \nL 618.674801 165.142225 \nz\n\" style=\"stroke:#000000;stroke-linejoin:miter;stroke-width:1.5;\"/>\n   </g>\n   <g id=\"patch_51\">\n    <path clip-path=\"url(#p9cbfaed952)\" d=\"M 643.786479 184.345273 \nC 643.786479 181.603959 642.696335 178.972118 640.757933 177.033716 \nC 638.819531 175.095314 636.18769 174.00517 633.446376 174.00517 \nC 630.705062 174.00517 628.073221 175.095314 626.13482 177.033716 \nC 624.196418 178.972118 623.106274 181.603959 623.106274 184.345273 \n\" style=\"fill:none;stroke:#ffffff;stroke-linejoin:miter;stroke-width:2;\"/>\n   </g>\n   <g id=\"line2d_24\">\n    <path clip-path=\"url(#p9cbfaed952)\" d=\"M 497.093376 47.992273 \nL 507.433479 37.65217 \n\" style=\"fill:none;stroke:#ffffff;stroke-linecap:square;stroke-width:2;\"/>\n   </g>\n   <g id=\"line2d_25\">\n    <path clip-path=\"url(#p9cbfaed952)\" d=\"M 542.544376 93.443273 \nL 552.884479 83.10317 \n\" style=\"fill:none;stroke:#ffffff;stroke-linecap:square;stroke-width:2;\"/>\n   </g>\n   <g id=\"line2d_26\">\n    <path clip-path=\"url(#p9cbfaed952)\" d=\"M 587.995376 138.894273 \nL 598.335479 128.55417 \n\" style=\"fill:none;stroke:#ffffff;stroke-linecap:square;stroke-width:2;\"/>\n   </g>\n   <g id=\"line2d_27\">\n    <path clip-path=\"url(#p9cbfaed952)\" d=\"M 633.446376 184.345273 \nL 643.786479 174.00517 \n\" style=\"fill:none;stroke:#ffffff;stroke-linecap:square;stroke-width:2;\"/>\n   </g>\n   <g id=\"line2d_28\">\n    <path clip-path=\"url(#p9cbfaed952)\" d=\"M 133.485376 20.8353 \nL 133.485376 66.2863 \n\" style=\"fill:none;stroke:#000000;stroke-dasharray:3.7,1.6;stroke-dashoffset:0;\"/>\n   </g>\n   <g id=\"line2d_29\">\n    <path clip-path=\"url(#p9cbfaed952)\" d=\"M 133.485376 66.2863 \nL 133.485376 111.7373 \n\" style=\"fill:none;stroke:#000000;stroke-dasharray:3.7,1.6;stroke-dashoffset:0;\"/>\n   </g>\n   <g id=\"line2d_30\">\n    <path clip-path=\"url(#p9cbfaed952)\" d=\"M 133.485376 111.7373 \nL 133.485376 157.1883 \n\" style=\"fill:none;stroke:#000000;stroke-dasharray:3.7,1.6;stroke-dashoffset:0;\"/>\n   </g>\n   <g id=\"line2d_31\">\n    <path clip-path=\"url(#p9cbfaed952)\" d=\"M 133.485376 157.1883 \nL 133.485376 202.6393 \n\" style=\"fill:none;stroke:#000000;stroke-dasharray:3.7,1.6;stroke-dashoffset:0;\"/>\n   </g>\n   <g id=\"line2d_32\">\n    <path clip-path=\"url(#p9cbfaed952)\" d=\"M 133.485376 202.6393 \nL 133.485376 248.0903 \n\" style=\"fill:none;stroke:#000000;stroke-dasharray:3.7,1.6;stroke-dashoffset:0;\"/>\n   </g>\n   <g id=\"line2d_33\">\n    <path clip-path=\"url(#p9cbfaed952)\" d=\"M 133.485376 248.0903 \nL 133.485376 293.5413 \n\" style=\"fill:none;stroke:#000000;stroke-dasharray:3.7,1.6;stroke-dashoffset:0;\"/>\n   </g>\n   <g id=\"line2d_34\">\n    <path clip-path=\"url(#p9cbfaed952)\" d=\"M 133.485376 293.5413 \nL 133.485376 338.9923 \n\" style=\"fill:none;stroke:#000000;stroke-dasharray:3.7,1.6;stroke-dashoffset:0;\"/>\n   </g>\n   <g id=\"line2d_35\">\n    <path clip-path=\"url(#p9cbfaed952)\" d=\"M 133.485376 338.9923 \nL 133.485376 384.4433 \n\" style=\"fill:none;stroke:#000000;stroke-dasharray:3.7,1.6;stroke-dashoffset:0;\"/>\n   </g>\n   <g id=\"line2d_36\">\n    <path clip-path=\"url(#p9cbfaed952)\" d=\"M 360.740376 20.8353 \nL 360.740376 66.2863 \n\" style=\"fill:none;stroke:#000000;stroke-dasharray:3.7,1.6;stroke-dashoffset:0;\"/>\n   </g>\n   <g id=\"line2d_37\">\n    <path clip-path=\"url(#p9cbfaed952)\" d=\"M 360.740376 66.2863 \nL 360.740376 111.7373 \n\" style=\"fill:none;stroke:#000000;stroke-dasharray:3.7,1.6;stroke-dashoffset:0;\"/>\n   </g>\n   <g id=\"line2d_38\">\n    <path clip-path=\"url(#p9cbfaed952)\" d=\"M 360.740376 111.7373 \nL 360.740376 157.1883 \n\" style=\"fill:none;stroke:#000000;stroke-dasharray:3.7,1.6;stroke-dashoffset:0;\"/>\n   </g>\n   <g id=\"line2d_39\">\n    <path clip-path=\"url(#p9cbfaed952)\" d=\"M 360.740376 157.1883 \nL 360.740376 202.6393 \n\" style=\"fill:none;stroke:#000000;stroke-dasharray:3.7,1.6;stroke-dashoffset:0;\"/>\n   </g>\n   <g id=\"line2d_40\">\n    <path clip-path=\"url(#p9cbfaed952)\" d=\"M 360.740376 202.6393 \nL 360.740376 248.0903 \n\" style=\"fill:none;stroke:#000000;stroke-dasharray:3.7,1.6;stroke-dashoffset:0;\"/>\n   </g>\n   <g id=\"line2d_41\">\n    <path clip-path=\"url(#p9cbfaed952)\" d=\"M 360.740376 248.0903 \nL 360.740376 293.5413 \n\" style=\"fill:none;stroke:#000000;stroke-dasharray:3.7,1.6;stroke-dashoffset:0;\"/>\n   </g>\n   <g id=\"line2d_42\">\n    <path clip-path=\"url(#p9cbfaed952)\" d=\"M 360.740376 293.5413 \nL 360.740376 338.9923 \n\" style=\"fill:none;stroke:#000000;stroke-dasharray:3.7,1.6;stroke-dashoffset:0;\"/>\n   </g>\n   <g id=\"line2d_43\">\n    <path clip-path=\"url(#p9cbfaed952)\" d=\"M 360.740376 338.9923 \nL 360.740376 384.4433 \n\" style=\"fill:none;stroke:#000000;stroke-dasharray:3.7,1.6;stroke-dashoffset:0;\"/>\n   </g>\n   <g id=\"line2d_44\">\n    <path clip-path=\"url(#p9cbfaed952)\" d=\"M 451.642376 20.8353 \nL 451.642376 66.2863 \n\" style=\"fill:none;stroke:#000000;stroke-dasharray:3.7,1.6;stroke-dashoffset:0;\"/>\n   </g>\n   <g id=\"line2d_45\">\n    <path clip-path=\"url(#p9cbfaed952)\" d=\"M 451.642376 66.2863 \nL 451.642376 111.7373 \n\" style=\"fill:none;stroke:#000000;stroke-dasharray:3.7,1.6;stroke-dashoffset:0;\"/>\n   </g>\n   <g id=\"line2d_46\">\n    <path clip-path=\"url(#p9cbfaed952)\" d=\"M 451.642376 111.7373 \nL 451.642376 157.1883 \n\" style=\"fill:none;stroke:#000000;stroke-dasharray:3.7,1.6;stroke-dashoffset:0;\"/>\n   </g>\n   <g id=\"line2d_47\">\n    <path clip-path=\"url(#p9cbfaed952)\" d=\"M 451.642376 157.1883 \nL 451.642376 202.6393 \n\" style=\"fill:none;stroke:#000000;stroke-dasharray:3.7,1.6;stroke-dashoffset:0;\"/>\n   </g>\n   <g id=\"line2d_48\">\n    <path clip-path=\"url(#p9cbfaed952)\" d=\"M 451.642376 202.6393 \nL 451.642376 248.0903 \n\" style=\"fill:none;stroke:#000000;stroke-dasharray:3.7,1.6;stroke-dashoffset:0;\"/>\n   </g>\n   <g id=\"line2d_49\">\n    <path clip-path=\"url(#p9cbfaed952)\" d=\"M 451.642376 248.0903 \nL 451.642376 293.5413 \n\" style=\"fill:none;stroke:#000000;stroke-dasharray:3.7,1.6;stroke-dashoffset:0;\"/>\n   </g>\n   <g id=\"line2d_50\">\n    <path clip-path=\"url(#p9cbfaed952)\" d=\"M 451.642376 293.5413 \nL 451.642376 338.9923 \n\" style=\"fill:none;stroke:#000000;stroke-dasharray:3.7,1.6;stroke-dashoffset:0;\"/>\n   </g>\n   <g id=\"line2d_51\">\n    <path clip-path=\"url(#p9cbfaed952)\" d=\"M 451.642376 338.9923 \nL 451.642376 384.4433 \n\" style=\"fill:none;stroke:#000000;stroke-dasharray:3.7,1.6;stroke-dashoffset:0;\"/>\n   </g>\n   <g id=\"text_1\">\n    <g clip-path=\"url(#p9cbfaed952)\">\n     <!-- H -->\n     <g transform=\"translate(83.146173 47.147988)scale(0.13 -0.13)\">\n      <defs>\n       <path d=\"M 9.8125 72.90625 \nL 19.671875 72.90625 \nL 19.671875 43.015625 \nL 55.515625 43.015625 \nL 55.515625 72.90625 \nL 65.375 72.90625 \nL 65.375 0 \nL 55.515625 0 \nL 55.515625 34.71875 \nL 19.671875 34.71875 \nL 19.671875 0 \nL 9.8125 0 \nz\n\" id=\"DejaVuSans-72\"/>\n      </defs>\n      <use xlink:href=\"#DejaVuSans-72\"/>\n     </g>\n    </g>\n   </g>\n   <g id=\"text_2\">\n    <g clip-path=\"url(#p9cbfaed952)\">\n     <!-- H -->\n     <g transform=\"translate(83.146173 92.598988)scale(0.13 -0.13)\">\n      <use xlink:href=\"#DejaVuSans-72\"/>\n     </g>\n    </g>\n   </g>\n   <g id=\"text_3\">\n    <g clip-path=\"url(#p9cbfaed952)\">\n     <!-- H -->\n     <g transform=\"translate(83.146173 138.049988)scale(0.13 -0.13)\">\n      <use xlink:href=\"#DejaVuSans-72\"/>\n     </g>\n    </g>\n   </g>\n   <g id=\"text_4\">\n    <g clip-path=\"url(#p9cbfaed952)\">\n     <!-- H -->\n     <g transform=\"translate(83.146173 183.500988)scale(0.13 -0.13)\">\n      <use xlink:href=\"#DejaVuSans-72\"/>\n     </g>\n    </g>\n   </g>\n   <g id=\"text_5\">\n    <g clip-path=\"url(#p9cbfaed952)\">\n     <!-- X -->\n     <g transform=\"translate(83.581876 365.304988)scale(0.13 -0.13)\">\n      <defs>\n       <path d=\"M 6.296875 72.90625 \nL 16.890625 72.90625 \nL 35.015625 45.796875 \nL 53.21875 72.90625 \nL 63.8125 72.90625 \nL 40.375 37.890625 \nL 65.375 0 \nL 54.78125 0 \nL 34.28125 31 \nL 13.625 0 \nL 2.984375 0 \nL 29 38.921875 \nz\n\" id=\"DejaVuSans-88\"/>\n      </defs>\n      <use xlink:href=\"#DejaVuSans-88\"/>\n     </g>\n    </g>\n   </g>\n   <g id=\"text_6\">\n    <g clip-path=\"url(#p9cbfaed952)\">\n     <!-- 0 -->\n     <g transform=\"translate(162.714914 228.951988)scale(0.13 -0.13)\">\n      <defs>\n       <path d=\"M 31.78125 66.40625 \nQ 24.171875 66.40625 20.328125 58.90625 \nQ 16.5 51.421875 16.5 36.375 \nQ 16.5 21.390625 20.328125 13.890625 \nQ 24.171875 6.390625 31.78125 6.390625 \nQ 39.453125 6.390625 43.28125 13.890625 \nQ 47.125 21.390625 47.125 36.375 \nQ 47.125 51.421875 43.28125 58.90625 \nQ 39.453125 66.40625 31.78125 66.40625 \nz\nM 31.78125 74.21875 \nQ 44.046875 74.21875 50.515625 64.515625 \nQ 56.984375 54.828125 56.984375 36.375 \nQ 56.984375 17.96875 50.515625 8.265625 \nQ 44.046875 -1.421875 31.78125 -1.421875 \nQ 19.53125 -1.421875 13.0625 8.265625 \nQ 6.59375 17.96875 6.59375 36.375 \nQ 6.59375 54.828125 13.0625 64.515625 \nQ 19.53125 74.21875 31.78125 74.21875 \nz\n\" id=\"DejaVuSans-48\"/>\n      </defs>\n      <use xlink:href=\"#DejaVuSans-48\"/>\n     </g>\n    </g>\n   </g>\n   <g id=\"text_7\">\n    <g clip-path=\"url(#p9cbfaed952)\">\n     <!-- 1 -->\n     <g transform=\"translate(162.714914 274.402988)scale(0.13 -0.13)\">\n      <defs>\n       <path d=\"M 12.40625 8.296875 \nL 28.515625 8.296875 \nL 28.515625 63.921875 \nL 10.984375 60.40625 \nL 10.984375 69.390625 \nL 28.421875 72.90625 \nL 38.28125 72.90625 \nL 38.28125 8.296875 \nL 54.390625 8.296875 \nL 54.390625 0 \nL 12.40625 0 \nz\n\" id=\"DejaVuSans-49\"/>\n      </defs>\n      <use xlink:href=\"#DejaVuSans-49\"/>\n     </g>\n    </g>\n   </g>\n   <g id=\"text_8\">\n    <g clip-path=\"url(#p9cbfaed952)\">\n     <!-- 2 -->\n     <g transform=\"translate(162.714914 319.853988)scale(0.13 -0.13)\">\n      <defs>\n       <path d=\"M 19.1875 8.296875 \nL 53.609375 8.296875 \nL 53.609375 0 \nL 7.328125 0 \nL 7.328125 8.296875 \nQ 12.9375 14.109375 22.625 23.890625 \nQ 32.328125 33.6875 34.8125 36.53125 \nQ 39.546875 41.84375 41.421875 45.53125 \nQ 43.3125 49.21875 43.3125 52.78125 \nQ 43.3125 58.59375 39.234375 62.25 \nQ 35.15625 65.921875 28.609375 65.921875 \nQ 23.96875 65.921875 18.8125 64.3125 \nQ 13.671875 62.703125 7.8125 59.421875 \nL 7.8125 69.390625 \nQ 13.765625 71.78125 18.9375 73 \nQ 24.125 74.21875 28.421875 74.21875 \nQ 39.75 74.21875 46.484375 68.546875 \nQ 53.21875 62.890625 53.21875 53.421875 \nQ 53.21875 48.921875 51.53125 44.890625 \nQ 49.859375 40.875 45.40625 35.40625 \nQ 44.1875 33.984375 37.640625 27.21875 \nQ 31.109375 20.453125 19.1875 8.296875 \nz\n\" id=\"DejaVuSans-50\"/>\n      </defs>\n      <use xlink:href=\"#DejaVuSans-50\"/>\n     </g>\n    </g>\n   </g>\n   <g id=\"text_9\">\n    <g clip-path=\"url(#p9cbfaed952)\">\n     <!-- 3 -->\n     <g transform=\"translate(162.714914 365.304988)scale(0.13 -0.13)\">\n      <defs>\n       <path d=\"M 40.578125 39.3125 \nQ 47.65625 37.796875 51.625 33 \nQ 55.609375 28.21875 55.609375 21.1875 \nQ 55.609375 10.40625 48.1875 4.484375 \nQ 40.765625 -1.421875 27.09375 -1.421875 \nQ 22.515625 -1.421875 17.65625 -0.515625 \nQ 12.796875 0.390625 7.625 2.203125 \nL 7.625 11.71875 \nQ 11.71875 9.328125 16.59375 8.109375 \nQ 21.484375 6.890625 26.8125 6.890625 \nQ 36.078125 6.890625 40.9375 10.546875 \nQ 45.796875 14.203125 45.796875 21.1875 \nQ 45.796875 27.640625 41.28125 31.265625 \nQ 36.765625 34.90625 28.71875 34.90625 \nL 20.21875 34.90625 \nL 20.21875 43.015625 \nL 29.109375 43.015625 \nQ 36.375 43.015625 40.234375 45.921875 \nQ 44.09375 48.828125 44.09375 54.296875 \nQ 44.09375 59.90625 40.109375 62.90625 \nQ 36.140625 65.921875 28.71875 65.921875 \nQ 24.65625 65.921875 20.015625 65.03125 \nQ 15.375 64.15625 9.8125 62.3125 \nL 9.8125 71.09375 \nQ 15.4375 72.65625 20.34375 73.4375 \nQ 25.25 74.21875 29.59375 74.21875 \nQ 40.828125 74.21875 47.359375 69.109375 \nQ 53.90625 64.015625 53.90625 55.328125 \nQ 53.90625 49.265625 50.4375 45.09375 \nQ 46.96875 40.921875 40.578125 39.3125 \nz\n\" id=\"DejaVuSans-51\"/>\n      </defs>\n      <use xlink:href=\"#DejaVuSans-51\"/>\n     </g>\n    </g>\n   </g>\n   <g id=\"text_10\">\n    <g clip-path=\"url(#p9cbfaed952)\">\n     <!-- U(1) -->\n     <g transform=\"translate(169.971142 297.128488)scale(0.13 -0.13)\">\n      <defs>\n       <path d=\"M 8.6875 72.90625 \nL 18.609375 72.90625 \nL 18.609375 28.609375 \nQ 18.609375 16.890625 22.84375 11.734375 \nQ 27.09375 6.59375 36.625 6.59375 \nQ 46.09375 6.59375 50.34375 11.734375 \nQ 54.59375 16.890625 54.59375 28.609375 \nL 54.59375 72.90625 \nL 64.5 72.90625 \nL 64.5 27.390625 \nQ 64.5 13.140625 57.4375 5.859375 \nQ 50.390625 -1.421875 36.625 -1.421875 \nQ 22.796875 -1.421875 15.734375 5.859375 \nQ 8.6875 13.140625 8.6875 27.390625 \nz\n\" id=\"DejaVuSans-85\"/>\n       <path d=\"M 31 75.875 \nQ 24.46875 64.65625 21.28125 53.65625 \nQ 18.109375 42.671875 18.109375 31.390625 \nQ 18.109375 20.125 21.3125 9.0625 \nQ 24.515625 -2 31 -13.1875 \nL 23.1875 -13.1875 \nQ 15.875 -1.703125 12.234375 9.375 \nQ 8.59375 20.453125 8.59375 31.390625 \nQ 8.59375 42.28125 12.203125 53.3125 \nQ 15.828125 64.359375 23.1875 75.875 \nz\n\" id=\"DejaVuSans-40\"/>\n       <path d=\"M 8.015625 75.875 \nL 15.828125 75.875 \nQ 23.140625 64.359375 26.78125 53.3125 \nQ 30.421875 42.28125 30.421875 31.390625 \nQ 30.421875 20.453125 26.78125 9.375 \nQ 23.140625 -1.703125 15.828125 -13.1875 \nL 8.015625 -13.1875 \nQ 14.5 -2 17.703125 9.0625 \nQ 20.90625 20.125 20.90625 31.390625 \nQ 20.90625 42.671875 17.703125 53.65625 \nQ 14.5 64.65625 8.015625 75.875 \nz\n\" id=\"DejaVuSans-41\"/>\n      </defs>\n      <use xlink:href=\"#DejaVuSans-85\"/>\n      <use x=\"73.193359\" xlink:href=\"#DejaVuSans-40\"/>\n      <use x=\"112.207031\" xlink:href=\"#DejaVuSans-49\"/>\n      <use x=\"175.830078\" xlink:href=\"#DejaVuSans-41\"/>\n     </g>\n    </g>\n   </g>\n   <g id=\"text_11\">\n    <g clip-path=\"url(#p9cbfaed952)\">\n     <!-- 0 -->\n     <g transform=\"translate(208.118191 228.951988)scale(0.13 -0.13)\">\n      <use xlink:href=\"#DejaVuSans-48\"/>\n     </g>\n    </g>\n   </g>\n   <g id=\"text_12\">\n    <g clip-path=\"url(#p9cbfaed952)\">\n     <!-- 1 -->\n     <g transform=\"translate(208.118191 274.402988)scale(0.13 -0.13)\">\n      <use xlink:href=\"#DejaVuSans-49\"/>\n     </g>\n    </g>\n   </g>\n   <g id=\"text_13\">\n    <g clip-path=\"url(#p9cbfaed952)\">\n     <!-- 2 -->\n     <g transform=\"translate(208.118191 319.853988)scale(0.13 -0.13)\">\n      <use xlink:href=\"#DejaVuSans-50\"/>\n     </g>\n    </g>\n   </g>\n   <g id=\"text_14\">\n    <g clip-path=\"url(#p9cbfaed952)\">\n     <!-- 3 -->\n     <g transform=\"translate(208.118191 365.304988)scale(0.13 -0.13)\">\n      <use xlink:href=\"#DejaVuSans-51\"/>\n     </g>\n    </g>\n   </g>\n   <g id=\"text_15\">\n    <g clip-path=\"url(#p9cbfaed952)\">\n     <!-- U(2) -->\n     <g transform=\"translate(215.422142 297.128488)scale(0.13 -0.13)\">\n      <use xlink:href=\"#DejaVuSans-85\"/>\n      <use x=\"73.193359\" xlink:href=\"#DejaVuSans-40\"/>\n      <use x=\"112.207031\" xlink:href=\"#DejaVuSans-50\"/>\n      <use x=\"175.830078\" xlink:href=\"#DejaVuSans-41\"/>\n     </g>\n    </g>\n   </g>\n   <g id=\"text_16\">\n    <g clip-path=\"url(#p9cbfaed952)\">\n     <!-- 0 -->\n     <g transform=\"translate(253.569191 228.951988)scale(0.13 -0.13)\">\n      <use xlink:href=\"#DejaVuSans-48\"/>\n     </g>\n    </g>\n   </g>\n   <g id=\"text_17\">\n    <g clip-path=\"url(#p9cbfaed952)\">\n     <!-- 1 -->\n     <g transform=\"translate(253.569191 274.402988)scale(0.13 -0.13)\">\n      <use xlink:href=\"#DejaVuSans-49\"/>\n     </g>\n    </g>\n   </g>\n   <g id=\"text_18\">\n    <g clip-path=\"url(#p9cbfaed952)\">\n     <!-- 2 -->\n     <g transform=\"translate(253.569191 319.853988)scale(0.13 -0.13)\">\n      <use xlink:href=\"#DejaVuSans-50\"/>\n     </g>\n    </g>\n   </g>\n   <g id=\"text_19\">\n    <g clip-path=\"url(#p9cbfaed952)\">\n     <!-- 3 -->\n     <g transform=\"translate(253.569191 365.304988)scale(0.13 -0.13)\">\n      <use xlink:href=\"#DejaVuSans-51\"/>\n     </g>\n    </g>\n   </g>\n   <g id=\"text_20\">\n    <g clip-path=\"url(#p9cbfaed952)\">\n     <!-- U(4) -->\n     <g transform=\"translate(260.873142 297.128488)scale(0.13 -0.13)\">\n      <defs>\n       <path d=\"M 37.796875 64.3125 \nL 12.890625 25.390625 \nL 37.796875 25.390625 \nz\nM 35.203125 72.90625 \nL 47.609375 72.90625 \nL 47.609375 25.390625 \nL 58.015625 25.390625 \nL 58.015625 17.1875 \nL 47.609375 17.1875 \nL 47.609375 0 \nL 37.796875 0 \nL 37.796875 17.1875 \nL 4.890625 17.1875 \nL 4.890625 26.703125 \nz\n\" id=\"DejaVuSans-52\"/>\n      </defs>\n      <use xlink:href=\"#DejaVuSans-85\"/>\n      <use x=\"73.193359\" xlink:href=\"#DejaVuSans-40\"/>\n      <use x=\"112.207031\" xlink:href=\"#DejaVuSans-52\"/>\n      <use x=\"175.830078\" xlink:href=\"#DejaVuSans-41\"/>\n     </g>\n    </g>\n   </g>\n   <g id=\"text_21\">\n    <g clip-path=\"url(#p9cbfaed952)\">\n     <!-- 0 -->\n     <g transform=\"translate(299.067914 228.951988)scale(0.13 -0.13)\">\n      <use xlink:href=\"#DejaVuSans-48\"/>\n     </g>\n    </g>\n   </g>\n   <g id=\"text_22\">\n    <g clip-path=\"url(#p9cbfaed952)\">\n     <!-- 1 -->\n     <g transform=\"translate(299.067914 274.402988)scale(0.13 -0.13)\">\n      <use xlink:href=\"#DejaVuSans-49\"/>\n     </g>\n    </g>\n   </g>\n   <g id=\"text_23\">\n    <g clip-path=\"url(#p9cbfaed952)\">\n     <!-- 2 -->\n     <g transform=\"translate(299.067914 319.853988)scale(0.13 -0.13)\">\n      <use xlink:href=\"#DejaVuSans-50\"/>\n     </g>\n    </g>\n   </g>\n   <g id=\"text_24\">\n    <g clip-path=\"url(#p9cbfaed952)\">\n     <!-- 3 -->\n     <g transform=\"translate(299.067914 365.304988)scale(0.13 -0.13)\">\n      <use xlink:href=\"#DejaVuSans-51\"/>\n     </g>\n    </g>\n   </g>\n   <g id=\"text_25\">\n    <g clip-path=\"url(#p9cbfaed952)\">\n     <!-- U(8) -->\n     <g transform=\"translate(306.324142 297.128488)scale(0.13 -0.13)\">\n      <defs>\n       <path d=\"M 31.78125 34.625 \nQ 24.75 34.625 20.71875 30.859375 \nQ 16.703125 27.09375 16.703125 20.515625 \nQ 16.703125 13.921875 20.71875 10.15625 \nQ 24.75 6.390625 31.78125 6.390625 \nQ 38.8125 6.390625 42.859375 10.171875 \nQ 46.921875 13.96875 46.921875 20.515625 \nQ 46.921875 27.09375 42.890625 30.859375 \nQ 38.875 34.625 31.78125 34.625 \nz\nM 21.921875 38.8125 \nQ 15.578125 40.375 12.03125 44.71875 \nQ 8.5 49.078125 8.5 55.328125 \nQ 8.5 64.0625 14.71875 69.140625 \nQ 20.953125 74.21875 31.78125 74.21875 \nQ 42.671875 74.21875 48.875 69.140625 \nQ 55.078125 64.0625 55.078125 55.328125 \nQ 55.078125 49.078125 51.53125 44.71875 \nQ 48 40.375 41.703125 38.8125 \nQ 48.828125 37.15625 52.796875 32.3125 \nQ 56.78125 27.484375 56.78125 20.515625 \nQ 56.78125 9.90625 50.3125 4.234375 \nQ 43.84375 -1.421875 31.78125 -1.421875 \nQ 19.734375 -1.421875 13.25 4.234375 \nQ 6.78125 9.90625 6.78125 20.515625 \nQ 6.78125 27.484375 10.78125 32.3125 \nQ 14.796875 37.15625 21.921875 38.8125 \nz\nM 18.3125 54.390625 \nQ 18.3125 48.734375 21.84375 45.5625 \nQ 25.390625 42.390625 31.78125 42.390625 \nQ 38.140625 42.390625 41.71875 45.5625 \nQ 45.3125 48.734375 45.3125 54.390625 \nQ 45.3125 60.0625 41.71875 63.234375 \nQ 38.140625 66.40625 31.78125 66.40625 \nQ 25.390625 66.40625 21.84375 63.234375 \nQ 18.3125 60.0625 18.3125 54.390625 \nz\n\" id=\"DejaVuSans-56\"/>\n      </defs>\n      <use xlink:href=\"#DejaVuSans-85\"/>\n      <use x=\"73.193359\" xlink:href=\"#DejaVuSans-40\"/>\n      <use x=\"112.207031\" xlink:href=\"#DejaVuSans-56\"/>\n      <use x=\"175.830078\" xlink:href=\"#DejaVuSans-41\"/>\n     </g>\n    </g>\n   </g>\n   <g id=\"text_26\">\n    <g clip-path=\"url(#p9cbfaed952)\">\n     <!-- 0 -->\n     <g transform=\"translate(393.331016 47.147988)scale(0.13 -0.13)\">\n      <use xlink:href=\"#DejaVuSans-48\"/>\n     </g>\n    </g>\n   </g>\n   <g id=\"text_27\">\n    <g clip-path=\"url(#p9cbfaed952)\">\n     <!-- 1 -->\n     <g transform=\"translate(393.331016 92.598988)scale(0.13 -0.13)\">\n      <use xlink:href=\"#DejaVuSans-49\"/>\n     </g>\n    </g>\n   </g>\n   <g id=\"text_28\">\n    <g clip-path=\"url(#p9cbfaed952)\">\n     <!-- 2 -->\n     <g transform=\"translate(393.331016 138.049988)scale(0.13 -0.13)\">\n      <use xlink:href=\"#DejaVuSans-50\"/>\n     </g>\n    </g>\n   </g>\n   <g id=\"text_29\">\n    <g clip-path=\"url(#p9cbfaed952)\">\n     <!-- 3 -->\n     <g transform=\"translate(393.331016 183.500988)scale(0.13 -0.13)\">\n      <use xlink:href=\"#DejaVuSans-51\"/>\n     </g>\n    </g>\n   </g>\n   <g id=\"text_30\">\n    <g clip-path=\"url(#p9cbfaed952)\">\n     <!-- iqft -->\n     <g transform=\"translate(400.536064 115.324488)scale(0.13 -0.13)\">\n      <defs>\n       <path d=\"M 9.421875 54.6875 \nL 18.40625 54.6875 \nL 18.40625 0 \nL 9.421875 0 \nz\nM 9.421875 75.984375 \nL 18.40625 75.984375 \nL 18.40625 64.59375 \nL 9.421875 64.59375 \nz\n\" id=\"DejaVuSans-105\"/>\n       <path d=\"M 14.796875 27.296875 \nQ 14.796875 17.390625 18.875 11.75 \nQ 22.953125 6.109375 30.078125 6.109375 \nQ 37.203125 6.109375 41.296875 11.75 \nQ 45.40625 17.390625 45.40625 27.296875 \nQ 45.40625 37.203125 41.296875 42.84375 \nQ 37.203125 48.484375 30.078125 48.484375 \nQ 22.953125 48.484375 18.875 42.84375 \nQ 14.796875 37.203125 14.796875 27.296875 \nz\nM 45.40625 8.203125 \nQ 42.578125 3.328125 38.25 0.953125 \nQ 33.9375 -1.421875 27.875 -1.421875 \nQ 17.96875 -1.421875 11.734375 6.484375 \nQ 5.515625 14.40625 5.515625 27.296875 \nQ 5.515625 40.1875 11.734375 48.09375 \nQ 17.96875 56 27.875 56 \nQ 33.9375 56 38.25 53.625 \nQ 42.578125 51.265625 45.40625 46.390625 \nL 45.40625 54.6875 \nL 54.390625 54.6875 \nL 54.390625 -20.796875 \nL 45.40625 -20.796875 \nz\n\" id=\"DejaVuSans-113\"/>\n       <path d=\"M 37.109375 75.984375 \nL 37.109375 68.5 \nL 28.515625 68.5 \nQ 23.6875 68.5 21.796875 66.546875 \nQ 19.921875 64.59375 19.921875 59.515625 \nL 19.921875 54.6875 \nL 34.71875 54.6875 \nL 34.71875 47.703125 \nL 19.921875 47.703125 \nL 19.921875 0 \nL 10.890625 0 \nL 10.890625 47.703125 \nL 2.296875 47.703125 \nL 2.296875 54.6875 \nL 10.890625 54.6875 \nL 10.890625 58.5 \nQ 10.890625 67.625 15.140625 71.796875 \nQ 19.390625 75.984375 28.609375 75.984375 \nz\n\" id=\"DejaVuSans-102\"/>\n       <path d=\"M 18.3125 70.21875 \nL 18.3125 54.6875 \nL 36.8125 54.6875 \nL 36.8125 47.703125 \nL 18.3125 47.703125 \nL 18.3125 18.015625 \nQ 18.3125 11.328125 20.140625 9.421875 \nQ 21.96875 7.515625 27.59375 7.515625 \nL 36.8125 7.515625 \nL 36.8125 0 \nL 27.59375 0 \nQ 17.1875 0 13.234375 3.875 \nQ 9.28125 7.765625 9.28125 18.015625 \nL 9.28125 47.703125 \nL 2.6875 47.703125 \nL 2.6875 54.6875 \nL 9.28125 54.6875 \nL 9.28125 70.21875 \nz\n\" id=\"DejaVuSans-116\"/>\n      </defs>\n      <use xlink:href=\"#DejaVuSans-105\"/>\n      <use x=\"27.783203\" xlink:href=\"#DejaVuSans-113\"/>\n      <use x=\"91.259766\" xlink:href=\"#DejaVuSans-102\"/>\n      <use x=\"124.714844\" xlink:href=\"#DejaVuSans-116\"/>\n     </g>\n    </g>\n   </g>\n   <g id=\"text_31\">\n    <g clip-path=\"url(#p9cbfaed952)\">\n     <!-- 0 -->\n     <g transform=\"translate(508.456126 400.460825)scale(0.104 -0.104)\">\n      <use xlink:href=\"#DejaVuSans-48\"/>\n     </g>\n    </g>\n   </g>\n   <g id=\"text_32\">\n    <g clip-path=\"url(#p9cbfaed952)\">\n     <!-- 1 -->\n     <g transform=\"translate(553.907126 400.460825)scale(0.104 -0.104)\">\n      <use xlink:href=\"#DejaVuSans-49\"/>\n     </g>\n    </g>\n   </g>\n   <g id=\"text_33\">\n    <g clip-path=\"url(#p9cbfaed952)\">\n     <!-- 2 -->\n     <g transform=\"translate(599.358126 400.460825)scale(0.104 -0.104)\">\n      <use xlink:href=\"#DejaVuSans-50\"/>\n     </g>\n    </g>\n   </g>\n   <g id=\"text_34\">\n    <g clip-path=\"url(#p9cbfaed952)\">\n     <!-- 3 -->\n     <g transform=\"translate(644.809126 400.460825)scale(0.104 -0.104)\">\n      <use xlink:href=\"#DejaVuSans-51\"/>\n     </g>\n    </g>\n   </g>\n   <g id=\"text_35\">\n    <g clip-path=\"url(#p9cbfaed952)\">\n     <!-- ${q}_{0}$ -->\n     <g transform=\"translate(36.363136 48.011777)scale(0.1625 -0.1625)\">\n      <defs>\n       <path d=\"M 41.703125 8.203125 \nQ 38.09375 3.46875 33.171875 1.015625 \nQ 28.265625 -1.421875 22.3125 -1.421875 \nQ 14.015625 -1.421875 9.296875 4.171875 \nQ 4.59375 9.765625 4.59375 19.578125 \nQ 4.59375 27.484375 7.5 34.859375 \nQ 10.40625 42.234375 15.828125 48.09375 \nQ 19.34375 51.90625 23.90625 53.953125 \nQ 28.46875 56 33.5 56 \nQ 39.546875 56 43.453125 53.609375 \nQ 47.359375 51.21875 49.125 46.390625 \nL 50.6875 54.59375 \nL 59.71875 54.59375 \nL 45.125 -20.609375 \nL 36.078125 -20.609375 \nz\nM 13.921875 20.90625 \nQ 13.921875 13.671875 16.9375 9.890625 \nQ 19.96875 6.109375 25.6875 6.109375 \nQ 34.1875 6.109375 40.1875 14.234375 \nQ 46.1875 22.359375 46.1875 33.984375 \nQ 46.1875 41.015625 43.078125 44.75 \nQ 39.984375 48.484375 34.1875 48.484375 \nQ 29.9375 48.484375 26.3125 46.5 \nQ 22.703125 44.53125 20.015625 40.71875 \nQ 17.1875 36.71875 15.546875 31.34375 \nQ 13.921875 25.984375 13.921875 20.90625 \nz\n\" id=\"DejaVuSans-Oblique-113\"/>\n      </defs>\n      <use xlink:href=\"#DejaVuSans-Oblique-113\"/>\n      <use transform=\"translate(63.476562 -16.40625)scale(0.7)\" xlink:href=\"#DejaVuSans-48\"/>\n     </g>\n    </g>\n   </g>\n   <g id=\"text_36\">\n    <g clip-path=\"url(#p9cbfaed952)\">\n     <!-- ${q}_{1}$ -->\n     <g transform=\"translate(36.363136 93.462777)scale(0.1625 -0.1625)\">\n      <use xlink:href=\"#DejaVuSans-Oblique-113\"/>\n      <use transform=\"translate(63.476562 -16.40625)scale(0.7)\" xlink:href=\"#DejaVuSans-49\"/>\n     </g>\n    </g>\n   </g>\n   <g id=\"text_37\">\n    <g clip-path=\"url(#p9cbfaed952)\">\n     <!-- ${q}_{2}$ -->\n     <g transform=\"translate(36.363136 138.913777)scale(0.1625 -0.1625)\">\n      <use xlink:href=\"#DejaVuSans-Oblique-113\"/>\n      <use transform=\"translate(63.476562 -16.40625)scale(0.7)\" xlink:href=\"#DejaVuSans-50\"/>\n     </g>\n    </g>\n   </g>\n   <g id=\"text_38\">\n    <g clip-path=\"url(#p9cbfaed952)\">\n     <!-- ${q}_{3}$ -->\n     <g transform=\"translate(36.363136 184.364777)scale(0.1625 -0.1625)\">\n      <use xlink:href=\"#DejaVuSans-Oblique-113\"/>\n      <use transform=\"translate(63.476562 -16.40625)scale(0.7)\" xlink:href=\"#DejaVuSans-51\"/>\n     </g>\n    </g>\n   </g>\n   <g id=\"text_39\">\n    <g clip-path=\"url(#p9cbfaed952)\">\n     <!-- ${q}_{4}$ -->\n     <g transform=\"translate(36.363136 229.815777)scale(0.1625 -0.1625)\">\n      <use xlink:href=\"#DejaVuSans-Oblique-113\"/>\n      <use transform=\"translate(63.476562 -16.40625)scale(0.7)\" xlink:href=\"#DejaVuSans-52\"/>\n     </g>\n    </g>\n   </g>\n   <g id=\"text_40\">\n    <g clip-path=\"url(#p9cbfaed952)\">\n     <!-- ${q}_{5}$ -->\n     <g transform=\"translate(36.363136 275.266777)scale(0.1625 -0.1625)\">\n      <defs>\n       <path d=\"M 10.796875 72.90625 \nL 49.515625 72.90625 \nL 49.515625 64.59375 \nL 19.828125 64.59375 \nL 19.828125 46.734375 \nQ 21.96875 47.46875 24.109375 47.828125 \nQ 26.265625 48.1875 28.421875 48.1875 \nQ 40.625 48.1875 47.75 41.5 \nQ 54.890625 34.8125 54.890625 23.390625 \nQ 54.890625 11.625 47.5625 5.09375 \nQ 40.234375 -1.421875 26.90625 -1.421875 \nQ 22.3125 -1.421875 17.546875 -0.640625 \nQ 12.796875 0.140625 7.71875 1.703125 \nL 7.71875 11.625 \nQ 12.109375 9.234375 16.796875 8.0625 \nQ 21.484375 6.890625 26.703125 6.890625 \nQ 35.15625 6.890625 40.078125 11.328125 \nQ 45.015625 15.765625 45.015625 23.390625 \nQ 45.015625 31 40.078125 35.4375 \nQ 35.15625 39.890625 26.703125 39.890625 \nQ 22.75 39.890625 18.8125 39.015625 \nQ 14.890625 38.140625 10.796875 36.28125 \nz\n\" id=\"DejaVuSans-53\"/>\n      </defs>\n      <use xlink:href=\"#DejaVuSans-Oblique-113\"/>\n      <use transform=\"translate(63.476562 -16.40625)scale(0.7)\" xlink:href=\"#DejaVuSans-53\"/>\n     </g>\n    </g>\n   </g>\n   <g id=\"text_41\">\n    <g clip-path=\"url(#p9cbfaed952)\">\n     <!-- ${q}_{6}$ -->\n     <g transform=\"translate(36.363136 320.717777)scale(0.1625 -0.1625)\">\n      <defs>\n       <path d=\"M 33.015625 40.375 \nQ 26.375 40.375 22.484375 35.828125 \nQ 18.609375 31.296875 18.609375 23.390625 \nQ 18.609375 15.53125 22.484375 10.953125 \nQ 26.375 6.390625 33.015625 6.390625 \nQ 39.65625 6.390625 43.53125 10.953125 \nQ 47.40625 15.53125 47.40625 23.390625 \nQ 47.40625 31.296875 43.53125 35.828125 \nQ 39.65625 40.375 33.015625 40.375 \nz\nM 52.59375 71.296875 \nL 52.59375 62.3125 \nQ 48.875 64.0625 45.09375 64.984375 \nQ 41.3125 65.921875 37.59375 65.921875 \nQ 27.828125 65.921875 22.671875 59.328125 \nQ 17.53125 52.734375 16.796875 39.40625 \nQ 19.671875 43.65625 24.015625 45.921875 \nQ 28.375 48.1875 33.59375 48.1875 \nQ 44.578125 48.1875 50.953125 41.515625 \nQ 57.328125 34.859375 57.328125 23.390625 \nQ 57.328125 12.15625 50.6875 5.359375 \nQ 44.046875 -1.421875 33.015625 -1.421875 \nQ 20.359375 -1.421875 13.671875 8.265625 \nQ 6.984375 17.96875 6.984375 36.375 \nQ 6.984375 53.65625 15.1875 63.9375 \nQ 23.390625 74.21875 37.203125 74.21875 \nQ 40.921875 74.21875 44.703125 73.484375 \nQ 48.484375 72.75 52.59375 71.296875 \nz\n\" id=\"DejaVuSans-54\"/>\n      </defs>\n      <use xlink:href=\"#DejaVuSans-Oblique-113\"/>\n      <use transform=\"translate(63.476562 -16.40625)scale(0.7)\" xlink:href=\"#DejaVuSans-54\"/>\n     </g>\n    </g>\n   </g>\n   <g id=\"text_42\">\n    <g clip-path=\"url(#p9cbfaed952)\">\n     <!-- ${q}_{7}$ -->\n     <g transform=\"translate(36.363136 366.168777)scale(0.1625 -0.1625)\">\n      <defs>\n       <path d=\"M 8.203125 72.90625 \nL 55.078125 72.90625 \nL 55.078125 68.703125 \nL 28.609375 0 \nL 18.3125 0 \nL 43.21875 64.59375 \nL 8.203125 64.59375 \nz\n\" id=\"DejaVuSans-55\"/>\n      </defs>\n      <use xlink:href=\"#DejaVuSans-Oblique-113\"/>\n      <use transform=\"translate(63.476562 -16.40625)scale(0.7)\" xlink:href=\"#DejaVuSans-55\"/>\n     </g>\n    </g>\n   </g>\n   <g id=\"text_43\">\n    <g clip-path=\"url(#p9cbfaed952)\">\n     <!-- 4 -->\n     <g transform=\"translate(68.035936 400.460825)scale(0.104 -0.104)\">\n      <use xlink:href=\"#DejaVuSans-52\"/>\n     </g>\n    </g>\n   </g>\n   <g id=\"text_44\">\n    <g clip-path=\"url(#p9cbfaed952)\">\n     <!-- c -->\n     <g transform=\"translate(45.465675 411.652784)scale(0.1625 -0.1625)\">\n      <defs>\n       <path d=\"M 48.78125 52.59375 \nL 48.78125 44.1875 \nQ 44.96875 46.296875 41.140625 47.34375 \nQ 37.3125 48.390625 33.40625 48.390625 \nQ 24.65625 48.390625 19.8125 42.84375 \nQ 14.984375 37.3125 14.984375 27.296875 \nQ 14.984375 17.28125 19.8125 11.734375 \nQ 24.65625 6.203125 33.40625 6.203125 \nQ 37.3125 6.203125 41.140625 7.25 \nQ 44.96875 8.296875 48.78125 10.40625 \nL 48.78125 2.09375 \nQ 45.015625 0.34375 40.984375 -0.53125 \nQ 36.96875 -1.421875 32.421875 -1.421875 \nQ 20.0625 -1.421875 12.78125 6.34375 \nQ 5.515625 14.109375 5.515625 27.296875 \nQ 5.515625 40.671875 12.859375 48.328125 \nQ 20.21875 56 33.015625 56 \nQ 37.15625 56 41.109375 55.140625 \nQ 45.0625 54.296875 48.78125 52.59375 \nz\n\" id=\"DejaVuSans-99\"/>\n      </defs>\n      <use xlink:href=\"#DejaVuSans-99\"/>\n     </g>\n    </g>\n   </g>\n  </g>\n </g>\n <defs>\n  <clipPath id=\"p9cbfaed952\">\n   <rect height=\"427.2394\" width=\"656.244036\" x=\"7.2\" y=\"7.2\"/>\n  </clipPath>\n </defs>\n</svg>\n",
      "image/png": "[encoded data removed]"
     },
     "metadata": {},
     "execution_count": 12
    }
   ],
   "source": [
    "n = 4; m = 4\n",
    "\n",
    "qc = period_finder(n, m, a)\n",
    "qc.draw(output='mpl')"
   ]
  },
  {
   "cell_type": "code",
   "execution_count": 206,
   "metadata": {},
   "outputs": [
    {
     "data": {
      "image/png": "[encoded data removed]",
      "text/plain": [
       "<Figure size 504x360 with 1 Axes>"
      ]
     },
     "execution_count": 206,
     "metadata": {},
     "output_type": "execute_result"
    }
   ],
   "source": [
    "simulator = Aer.get_backend('qasm_simulator')\n",
    "counts = execute(qc, backend=simulator).result().get_counts(qc)\n",
    "\n",
    "plot_histogram(counts)"
   ]
  },
  {
   "cell_type": "code",
   "execution_count": 207,
   "metadata": {},
   "outputs": [
    {
     "name": "stdout",
     "output_type": "stream",
     "text": [
      "Measured periods:\t0\t4\t5\t6\t7\t8\t9\t10\t11\t12\t13\t14\t15\t"
     ]
    }
   ],
   "source": [
    "# convert and add binary periods to list\n",
    "counts_dec = sorted([int(measured_value[::-1], 2)\n",
    "                     for measured_value in counts])\n",
    "\n",
    "print(\"Measured periods:\", end='\\t')\n",
    "for measured_value in counts_dec:\n",
    "    print(measured_value, end='\\t')"
   ]
  },
  {
   "cell_type": "code",
   "execution_count": 208,
   "metadata": {},
   "outputs": [
    {
     "name": "stdout",
     "output_type": "stream",
     "text": [
      "Measured periods:\t0\t4\t5\t6\t7\t8\t9\t10\t11\t12\t13\t14\t15\t"
     ]
    }
   ],
   "source": [
    "# convert and add binary periods to list\n",
    "counts_dec = sorted([int(measured_value[::-1], 2)\n",
    "                     for measured_value in counts])\n",
    "\n",
    "print(\"Measured periods:\", end='\\t')\n",
    "for measured_value in counts_dec:\n",
    "    print(measured_value, end='\\t')"
   ]
  },
  {
   "cell_type": "code",
   "execution_count": 209,
   "metadata": {},
   "outputs": [
    {
     "name": "stdout",
     "output_type": "stream",
     "text": [
      "P = 3\n",
      "Q = 5\n",
      "\n",
      " 3 x 5 = 15, True\n"
     ]
    }
   ],
   "source": [
    "factors = set()\n",
    "\n",
    "for x in periods:\n",
    "    guesses = [gcd(int((a ** (measured_value/2))) + 1, N),\n",
    "               gcd(int((a ** (measured_value/2))) - 1, N)]\n",
    "    for guess in guesses:\n",
    "        # ignore trivial factors\n",
    "        if guess != 1 and guess != N and N % guess == 0:\n",
    "            factors.add(guess)\n",
    "\n",
    "if len(factors):\n",
    "    P = factors.pop()\n",
    "    Q = factors.pop() if len(factors) else N // P\n",
    "    print(f\"P = {P}\\nQ = {Q}\\n\\n\",\n",
    "          f\"{P} x {Q} = {N}, {P * Q == N}\")\n",
    "else:\n",
    "    print(\"Shor's Algorithm Failed. Choose a different 'a'.\")"
   ]
  },
  {
   "source": [
    "# Connecting to IBM \n",
    "from qiskit import IBMQ\t\n",
    "IBMQ.save_account('1840e4f2f0bdfcc03c06a6211f6bf750c32729f6e4d1bfeed1c90da39b325064c94779d6e73635106e47ef2eeebd0101682115fbb3ee009b0827e81b8b087b61')"
   ],
   "cell_type": "code",
   "metadata": {},
   "execution_count": 2,
   "outputs": [
    {
     "output_type": "stream",
     "name": "stderr",
     "text": [
      "/Users/JOAW-BOOK/Library/Python/3.8/lib/python/site-packages/qiskit/aqua/operators/operator_globals.py:48: DeprecationWarning: `from_label` is deprecated and will be removed no earlier than 3 months after the release date. Use Pauli(label) instead.\n  X = make_immutable(PrimitiveOp(Pauli.from_label('X')))\n"
     ]
    }
   ]
  },
  {
   "cell_type": "code",
   "execution_count": 3,
   "metadata": {},
   "outputs": [
    {
     "output_type": "stream",
     "name": "stderr",
     "text": [
      "/Users/JOAW-BOOK/Library/Python/3.8/lib/python/site-packages/qiskit/providers/ibmq/ibmqfactory.py:192: UserWarning: Timestamps in IBMQ backend properties, jobs, and job results are all now in local time instead of UTC.\n  warnings.warn('Timestamps in IBMQ backend properties, jobs, and job results '\n"
     ]
    },
    {
     "output_type": "execute_result",
     "data": {
      "text/plain": [
       "<AccountProvider for IBMQ(hub='ibm-q', group='open', project='main')>"
      ]
     },
     "metadata": {},
     "execution_count": 3
    }
   ],
   "source": [
    "IBMQ.load_account()"
   ]
  },
  {
   "cell_type": "code",
   "execution_count": 4,
   "metadata": {},
   "outputs": [],
   "source": [
    "from qiskit import *"
   ]
  },
  {
   "cell_type": "code",
   "execution_count": 31,
   "metadata": {},
   "outputs": [
    {
     "output_type": "execute_result",
     "data": {
      "text/plain": [
       "     ┌───┐┌───┐┌─┐\n",
       "q_0: ┤ X ├┤ X ├┤M├\n",
       "     ├───┤└┬─┬┘└╥┘\n",
       "q_1: ┤ X ├─┤M├──╫─\n",
       "     └───┘ └╥┘  ║ \n",
       "c: 2/═══════╩═══╩═\n",
       "            1   0 "
      ],
      "text/html": "<pre style=\"word-wrap: normal;white-space: pre;background: #fff0;line-height: 1.1;font-family: &quot;Courier New&quot;,Courier,monospace\">     ┌───┐┌───┐┌─┐\nq_0: ┤ X ├┤ X ├┤M├\n     ├───┤└┬─┬┘└╥┘\nq_1: ┤ X ├─┤M├──╫─\n     └───┘ └╥┘  ║ \nc: 2/═══════╩═══╩═\n            1   0 </pre>"
     },
     "metadata": {},
     "execution_count": 31
    }
   ],
   "source": [
    "circuit = QuantumCircuit(2, 2)\n",
    "circuit.x(0)\n",
    "circuit.x(0)\n",
    "circuit.x(1)\n",
    "circuit.measure([0, 1], [0, 1])\n",
    "circuit.draw()"
   ]
  },
  {
   "cell_type": "code",
   "execution_count": 32,
   "metadata": {},
   "outputs": [
    {
     "output_type": "error",
     "ename": "QiskitError",
     "evalue": "'Data for experiment \"circuit-554\" could not be found.'",
     "traceback": [
      "\u001b[0;31m---------------------------------------------------------------------------\u001b[0m",
      "\u001b[0;31mQiskitError\u001b[0m                               Traceback (most recent call last)",
      "\u001b[0;32m<ipython-input-32-f8c49c5c49b5>\u001b[0m in \u001b[0;36m<module>\u001b[0;34m\u001b[0m\n\u001b[1;32m      1\u001b[0m \u001b[0;31m# visualising results\u001b[0m\u001b[0;34m\u001b[0m\u001b[0;34m\u001b[0m\u001b[0;34m\u001b[0m\u001b[0m\n\u001b[1;32m      2\u001b[0m \u001b[0;32mfrom\u001b[0m \u001b[0mqiskit\u001b[0m\u001b[0;34m.\u001b[0m\u001b[0mvisualization\u001b[0m \u001b[0;32mimport\u001b[0m \u001b[0mplot_histogram\u001b[0m\u001b[0;34m,\u001b[0m \u001b[0mtimeline_drawer\u001b[0m\u001b[0;34m\u001b[0m\u001b[0;34m\u001b[0m\u001b[0m\n\u001b[0;32m----> 3\u001b[0;31m \u001b[0mplot_histogram\u001b[0m\u001b[0;34m(\u001b[0m\u001b[0mresult\u001b[0m\u001b[0;34m.\u001b[0m\u001b[0mget_counts\u001b[0m\u001b[0;34m(\u001b[0m\u001b[0mcircuit\u001b[0m\u001b[0;34m)\u001b[0m\u001b[0;34m)\u001b[0m\u001b[0;34m\u001b[0m\u001b[0;34m\u001b[0m\u001b[0m\n\u001b[0m",
      "\u001b[0;32m~/Library/Python/3.8/lib/python/site-packages/qiskit/result/result.py\u001b[0m in \u001b[0;36mget_counts\u001b[0;34m(self, experiment)\u001b[0m\n\u001b[1;32m    261\u001b[0m         \u001b[0mdict_list\u001b[0m \u001b[0;34m=\u001b[0m \u001b[0;34m[\u001b[0m\u001b[0;34m]\u001b[0m\u001b[0;34m\u001b[0m\u001b[0;34m\u001b[0m\u001b[0m\n\u001b[1;32m    262\u001b[0m         \u001b[0;32mfor\u001b[0m \u001b[0mkey\u001b[0m \u001b[0;32min\u001b[0m \u001b[0mexp_keys\u001b[0m\u001b[0;34m:\u001b[0m\u001b[0;34m\u001b[0m\u001b[0;34m\u001b[0m\u001b[0m\n\u001b[0;32m--> 263\u001b[0;31m             \u001b[0mexp\u001b[0m \u001b[0;34m=\u001b[0m \u001b[0mself\u001b[0m\u001b[0;34m.\u001b[0m\u001b[0m_get_experiment\u001b[0m\u001b[0;34m(\u001b[0m\u001b[0mkey\u001b[0m\u001b[0;34m)\u001b[0m\u001b[0;34m\u001b[0m\u001b[0;34m\u001b[0m\u001b[0m\n\u001b[0m\u001b[1;32m    264\u001b[0m             \u001b[0;32mtry\u001b[0m\u001b[0;34m:\u001b[0m\u001b[0;34m\u001b[0m\u001b[0;34m\u001b[0m\u001b[0m\n\u001b[1;32m    265\u001b[0m                 \u001b[0mheader\u001b[0m \u001b[0;34m=\u001b[0m \u001b[0mexp\u001b[0m\u001b[0;34m.\u001b[0m\u001b[0mheader\u001b[0m\u001b[0;34m.\u001b[0m\u001b[0mto_dict\u001b[0m\u001b[0;34m(\u001b[0m\u001b[0;34m)\u001b[0m\u001b[0;34m\u001b[0m\u001b[0;34m\u001b[0m\u001b[0m\n",
      "\u001b[0;32m~/Library/Python/3.8/lib/python/site-packages/qiskit/result/result.py\u001b[0m in \u001b[0;36m_get_experiment\u001b[0;34m(self, key)\u001b[0m\n\u001b[1;32m    368\u001b[0m \u001b[0;34m\u001b[0m\u001b[0m\n\u001b[1;32m    369\u001b[0m             \u001b[0;32mif\u001b[0m \u001b[0mlen\u001b[0m\u001b[0;34m(\u001b[0m\u001b[0mexp\u001b[0m\u001b[0;34m)\u001b[0m \u001b[0;34m==\u001b[0m \u001b[0;36m0\u001b[0m\u001b[0;34m:\u001b[0m\u001b[0;34m\u001b[0m\u001b[0;34m\u001b[0m\u001b[0m\n\u001b[0;32m--> 370\u001b[0;31m                 raise QiskitError('Data for experiment \"%s\" could not be found.' %\n\u001b[0m\u001b[1;32m    371\u001b[0m                                   key)\n\u001b[1;32m    372\u001b[0m             \u001b[0;32mif\u001b[0m \u001b[0mlen\u001b[0m\u001b[0;34m(\u001b[0m\u001b[0mexp\u001b[0m\u001b[0;34m)\u001b[0m \u001b[0;34m==\u001b[0m \u001b[0;36m1\u001b[0m\u001b[0;34m:\u001b[0m\u001b[0;34m\u001b[0m\u001b[0;34m\u001b[0m\u001b[0m\n",
      "\u001b[0;31mQiskitError\u001b[0m: 'Data for experiment \"circuit-554\" could not be found.'"
     ]
    }
   ],
   "source": [
    "# visualising results \n",
    "from qiskit.visualization import plot_histogram, timeline_drawer\n",
    "plot_histogram(result.get_counts(circuit))"
   ]
  },
  {
   "cell_type": "code",
   "execution_count": 33,
   "metadata": {},
   "outputs": [
    {
     "output_type": "stream",
     "name": "stderr",
     "text": [
      "ibmqfactory.load_account:WARNING:2021-05-27 11:41:39,117: Credentials are already in use. The existing account in the session will be replaced.\n"
     ]
    }
   ],
   "source": [
    "IBMQ.load_account()\n",
    "provider = IBMQ.get_provider(hub = 'ibm-q',group='open', project='main')\n",
    "qcomp = provider.get_backend('ibmq_16_melbourne')"
   ]
  },
  {
   "cell_type": "code",
   "execution_count": null,
   "metadata": {},
   "outputs": [],
   "source": [
    "backend_config = backend.configuration()\n"
   ]
  },
  {
   "cell_type": "code",
   "execution_count": 41,
   "metadata": {},
   "outputs": [
    {
     "output_type": "stream",
     "name": "stdout",
     "text": [
      "ibmq_belem\n"
     ]
    },
    {
     "output_type": "display_data",
     "data": {
      "text/plain": "Accordion(children=(VBox(layout=Layout(max_width='710px', min_width='710px')),), layout=Layout(max_height='500…",
      "application/vnd.jupyter.widget-view+json": {
       "version_major": 2,
       "version_minor": 0,
       "model_id": "60e98e412a974eaa9ba670a8903865ad"
      }
     },
     "metadata": {}
    },
    {
     "output_type": "display_data",
     "data": {
      "text/plain": "<IPython.core.display.Javascript object>",
      "application/javascript": "$('div.job_widget')\n        .detach()\n        .appendTo($('#header'))\n        .css({\n            'z-index': 999,\n             'position': 'fixed',\n            'box-shadow': '5px 5px 5px -3px black',\n            'opacity': 0.95,\n            'float': 'left,'\n        })\n        "
     },
     "metadata": {}
    }
   ],
   "source": [
    "# extra: -> gives you least busy of the day \n",
    "\n",
    "\n",
    "num_qubits = 2\n",
    "\n",
    "from qiskit.providers.ibmq import least_busy\n",
    "possible_devices = provider.backends(filters=lambda x: \n",
    "                                     x.configuration().n_qubits >= num_qubits\n",
    "                                       and \n",
    "                                     x.configuration().simulator == False)\n",
    "qcomp = least_busy(possible_devices)\n",
    "print(qcomp) \n",
    "\n",
    "# job watcher \n",
    "import qiskit.tools.jupyter\n",
    "%qiskit_job_watcher"
   ]
  },
  {
   "cell_type": "code",
   "execution_count": 34,
   "metadata": {},
   "outputs": [],
   "source": [
    "# execution quantum part \n",
    "job = execute(circuit, backend=qcomp)\n",
    "# comment \n"
   ]
  },
  {
   "cell_type": "code",
   "execution_count": 35,
   "metadata": {},
   "outputs": [
    {
     "output_type": "stream",
     "name": "stdout",
     "text": [
      "Job Status: job is queued (39)    "
     ]
    },
    {
     "output_type": "error",
     "ename": "IBMQJobApiError",
     "evalue": "\"'404 Client Error: Not Found for url: https://api.quantum-computing.ibm.com/api/Network/ibm-q/Groups/open/Projects/main/Jobs/60af695b273f303ac1b6ada0/status/v/1. Job not found., Error code: 3250.'\"",
     "traceback": [
      "\u001b[0;31m---------------------------------------------------------------------------\u001b[0m",
      "\u001b[0;31mHTTPError\u001b[0m                                 Traceback (most recent call last)",
      "\u001b[0;32m~/Library/Python/3.8/lib/python/site-packages/qiskit/providers/ibmq/api/session.py\u001b[0m in \u001b[0;36mrequest\u001b[0;34m(self, method, url, bare, **kwargs)\u001b[0m\n\u001b[1;32m    273\u001b[0m             \u001b[0mresponse\u001b[0m \u001b[0;34m=\u001b[0m \u001b[0msuper\u001b[0m\u001b[0;34m(\u001b[0m\u001b[0;34m)\u001b[0m\u001b[0;34m.\u001b[0m\u001b[0mrequest\u001b[0m\u001b[0;34m(\u001b[0m\u001b[0mmethod\u001b[0m\u001b[0;34m,\u001b[0m \u001b[0mfinal_url\u001b[0m\u001b[0;34m,\u001b[0m \u001b[0mheaders\u001b[0m\u001b[0;34m=\u001b[0m\u001b[0mheaders\u001b[0m\u001b[0;34m,\u001b[0m \u001b[0;34m**\u001b[0m\u001b[0mkwargs\u001b[0m\u001b[0;34m)\u001b[0m\u001b[0;34m\u001b[0m\u001b[0;34m\u001b[0m\u001b[0m\n\u001b[0;32m--> 274\u001b[0;31m             \u001b[0mresponse\u001b[0m\u001b[0;34m.\u001b[0m\u001b[0mraise_for_status\u001b[0m\u001b[0;34m(\u001b[0m\u001b[0;34m)\u001b[0m\u001b[0;34m\u001b[0m\u001b[0;34m\u001b[0m\u001b[0m\n\u001b[0m\u001b[1;32m    275\u001b[0m         \u001b[0;32mexcept\u001b[0m \u001b[0mRequestException\u001b[0m \u001b[0;32mas\u001b[0m \u001b[0mex\u001b[0m\u001b[0;34m:\u001b[0m\u001b[0;34m\u001b[0m\u001b[0;34m\u001b[0m\u001b[0m\n",
      "\u001b[0;32m~/Library/Python/3.8/lib/python/site-packages/requests/models.py\u001b[0m in \u001b[0;36mraise_for_status\u001b[0;34m(self)\u001b[0m\n\u001b[1;32m    940\u001b[0m         \u001b[0;32mif\u001b[0m \u001b[0mhttp_error_msg\u001b[0m\u001b[0;34m:\u001b[0m\u001b[0;34m\u001b[0m\u001b[0;34m\u001b[0m\u001b[0m\n\u001b[0;32m--> 941\u001b[0;31m             \u001b[0;32mraise\u001b[0m \u001b[0mHTTPError\u001b[0m\u001b[0;34m(\u001b[0m\u001b[0mhttp_error_msg\u001b[0m\u001b[0;34m,\u001b[0m \u001b[0mresponse\u001b[0m\u001b[0;34m=\u001b[0m\u001b[0mself\u001b[0m\u001b[0;34m)\u001b[0m\u001b[0;34m\u001b[0m\u001b[0;34m\u001b[0m\u001b[0m\n\u001b[0m\u001b[1;32m    942\u001b[0m \u001b[0;34m\u001b[0m\u001b[0m\n",
      "\u001b[0;31mHTTPError\u001b[0m: 404 Client Error: Not Found for url: https://api.quantum-computing.ibm.com/api/Network/ibm-q/Groups/open/Projects/main/Jobs/60af695b273f303ac1b6ada0/status/v/1",
      "\nThe above exception was the direct cause of the following exception:\n",
      "\u001b[0;31mRequestsApiError\u001b[0m                          Traceback (most recent call last)",
      "\u001b[0;32m~/Library/Python/3.8/lib/python/site-packages/qiskit/providers/ibmq/job/utils.py\u001b[0m in \u001b[0;36mapi_to_job_error\u001b[0;34m()\u001b[0m\n\u001b[1;32m     58\u001b[0m     \u001b[0;32mtry\u001b[0m\u001b[0;34m:\u001b[0m\u001b[0;34m\u001b[0m\u001b[0;34m\u001b[0m\u001b[0m\n\u001b[0;32m---> 59\u001b[0;31m         \u001b[0;32myield\u001b[0m\u001b[0;34m\u001b[0m\u001b[0;34m\u001b[0m\u001b[0m\n\u001b[0m\u001b[1;32m     60\u001b[0m     \u001b[0;32mexcept\u001b[0m \u001b[0mApiError\u001b[0m \u001b[0;32mas\u001b[0m \u001b[0mapi_err\u001b[0m\u001b[0;34m:\u001b[0m\u001b[0;34m\u001b[0m\u001b[0;34m\u001b[0m\u001b[0m\n",
      "\u001b[0;32m~/Library/Python/3.8/lib/python/site-packages/qiskit/providers/ibmq/job/ibmqjob.py\u001b[0m in \u001b[0;36mstatus\u001b[0;34m(self)\u001b[0m\n\u001b[1;32m    500\u001b[0m         \u001b[0;32mwith\u001b[0m \u001b[0mapi_to_job_error\u001b[0m\u001b[0;34m(\u001b[0m\u001b[0;34m)\u001b[0m\u001b[0;34m:\u001b[0m\u001b[0;34m\u001b[0m\u001b[0;34m\u001b[0m\u001b[0m\n\u001b[0;32m--> 501\u001b[0;31m             \u001b[0mapi_response\u001b[0m \u001b[0;34m=\u001b[0m \u001b[0mself\u001b[0m\u001b[0;34m.\u001b[0m\u001b[0m_api_client\u001b[0m\u001b[0;34m.\u001b[0m\u001b[0mjob_status\u001b[0m\u001b[0;34m(\u001b[0m\u001b[0mself\u001b[0m\u001b[0;34m.\u001b[0m\u001b[0mjob_id\u001b[0m\u001b[0;34m(\u001b[0m\u001b[0;34m)\u001b[0m\u001b[0;34m)\u001b[0m\u001b[0;34m\u001b[0m\u001b[0;34m\u001b[0m\u001b[0m\n\u001b[0m\u001b[1;32m    502\u001b[0m             \u001b[0mself\u001b[0m\u001b[0;34m.\u001b[0m\u001b[0m_api_status\u001b[0m \u001b[0;34m=\u001b[0m \u001b[0mapi_response\u001b[0m\u001b[0;34m[\u001b[0m\u001b[0;34m'status'\u001b[0m\u001b[0;34m]\u001b[0m\u001b[0;34m\u001b[0m\u001b[0;34m\u001b[0m\u001b[0m\n",
      "\u001b[0;32m~/Library/Python/3.8/lib/python/site-packages/qiskit/providers/ibmq/api/clients/account.py\u001b[0m in \u001b[0;36mjob_status\u001b[0;34m(self, job_id)\u001b[0m\n\u001b[1;32m    329\u001b[0m         \"\"\"\n\u001b[0;32m--> 330\u001b[0;31m         \u001b[0;32mreturn\u001b[0m \u001b[0mself\u001b[0m\u001b[0;34m.\u001b[0m\u001b[0maccount_api\u001b[0m\u001b[0;34m.\u001b[0m\u001b[0mjob\u001b[0m\u001b[0;34m(\u001b[0m\u001b[0mjob_id\u001b[0m\u001b[0;34m)\u001b[0m\u001b[0;34m.\u001b[0m\u001b[0mstatus\u001b[0m\u001b[0;34m(\u001b[0m\u001b[0;34m)\u001b[0m\u001b[0;34m\u001b[0m\u001b[0;34m\u001b[0m\u001b[0m\n\u001b[0m\u001b[1;32m    331\u001b[0m \u001b[0;34m\u001b[0m\u001b[0m\n",
      "\u001b[0;32m~/Library/Python/3.8/lib/python/site-packages/qiskit/providers/ibmq/api/rest/job.py\u001b[0m in \u001b[0;36mstatus\u001b[0;34m(self)\u001b[0m\n\u001b[1;32m    160\u001b[0m         \u001b[0murl\u001b[0m \u001b[0;34m=\u001b[0m \u001b[0mself\u001b[0m\u001b[0;34m.\u001b[0m\u001b[0mget_url\u001b[0m\u001b[0;34m(\u001b[0m\u001b[0;34m'status'\u001b[0m\u001b[0;34m)\u001b[0m\u001b[0;34m\u001b[0m\u001b[0;34m\u001b[0m\u001b[0m\n\u001b[0;32m--> 161\u001b[0;31m         \u001b[0mraw_response\u001b[0m \u001b[0;34m=\u001b[0m \u001b[0mself\u001b[0m\u001b[0;34m.\u001b[0m\u001b[0msession\u001b[0m\u001b[0;34m.\u001b[0m\u001b[0mget\u001b[0m\u001b[0;34m(\u001b[0m\u001b[0murl\u001b[0m\u001b[0;34m)\u001b[0m\u001b[0;34m\u001b[0m\u001b[0;34m\u001b[0m\u001b[0m\n\u001b[0m\u001b[1;32m    162\u001b[0m         \u001b[0;32mtry\u001b[0m\u001b[0;34m:\u001b[0m\u001b[0;34m\u001b[0m\u001b[0;34m\u001b[0m\u001b[0m\n",
      "\u001b[0;32m~/Library/Python/3.8/lib/python/site-packages/requests/sessions.py\u001b[0m in \u001b[0;36mget\u001b[0;34m(self, url, **kwargs)\u001b[0m\n\u001b[1;32m    542\u001b[0m         \u001b[0mkwargs\u001b[0m\u001b[0;34m.\u001b[0m\u001b[0msetdefault\u001b[0m\u001b[0;34m(\u001b[0m\u001b[0;34m'allow_redirects'\u001b[0m\u001b[0;34m,\u001b[0m \u001b[0;32mTrue\u001b[0m\u001b[0;34m)\u001b[0m\u001b[0;34m\u001b[0m\u001b[0;34m\u001b[0m\u001b[0m\n\u001b[0;32m--> 543\u001b[0;31m         \u001b[0;32mreturn\u001b[0m \u001b[0mself\u001b[0m\u001b[0;34m.\u001b[0m\u001b[0mrequest\u001b[0m\u001b[0;34m(\u001b[0m\u001b[0;34m'GET'\u001b[0m\u001b[0;34m,\u001b[0m \u001b[0murl\u001b[0m\u001b[0;34m,\u001b[0m \u001b[0;34m**\u001b[0m\u001b[0mkwargs\u001b[0m\u001b[0;34m)\u001b[0m\u001b[0;34m\u001b[0m\u001b[0;34m\u001b[0m\u001b[0m\n\u001b[0m\u001b[1;32m    544\u001b[0m \u001b[0;34m\u001b[0m\u001b[0m\n",
      "\u001b[0;32m~/Library/Python/3.8/lib/python/site-packages/qiskit/providers/ibmq/api/session.py\u001b[0m in \u001b[0;36mrequest\u001b[0;34m(self, method, url, bare, **kwargs)\u001b[0m\n\u001b[1;32m    295\u001b[0m \u001b[0;34m\u001b[0m\u001b[0m\n\u001b[0;32m--> 296\u001b[0;31m             \u001b[0;32mraise\u001b[0m \u001b[0mRequestsApiError\u001b[0m\u001b[0;34m(\u001b[0m\u001b[0mmessage\u001b[0m\u001b[0;34m,\u001b[0m \u001b[0mstatus_code\u001b[0m\u001b[0;34m)\u001b[0m \u001b[0;32mfrom\u001b[0m \u001b[0mex\u001b[0m\u001b[0;34m\u001b[0m\u001b[0;34m\u001b[0m\u001b[0m\n\u001b[0m\u001b[1;32m    297\u001b[0m \u001b[0;34m\u001b[0m\u001b[0m\n",
      "\u001b[0;31mRequestsApiError\u001b[0m: '404 Client Error: Not Found for url: https://api.quantum-computing.ibm.com/api/Network/ibm-q/Groups/open/Projects/main/Jobs/60af695b273f303ac1b6ada0/status/v/1. Job not found., Error code: 3250.'",
      "\nThe above exception was the direct cause of the following exception:\n",
      "\u001b[0;31mIBMQJobApiError\u001b[0m                           Traceback (most recent call last)",
      "\u001b[0;32m<ipython-input-35-f89f5c34ba14>\u001b[0m in \u001b[0;36m<module>\u001b[0;34m\u001b[0m\n\u001b[1;32m      2\u001b[0m \u001b[0;34m\u001b[0m\u001b[0m\n\u001b[1;32m      3\u001b[0m \u001b[0;32mfrom\u001b[0m \u001b[0mqiskit\u001b[0m\u001b[0;34m.\u001b[0m\u001b[0mtools\u001b[0m\u001b[0;34m.\u001b[0m\u001b[0mmonitor\u001b[0m \u001b[0;32mimport\u001b[0m \u001b[0mjob_monitor\u001b[0m\u001b[0;34m\u001b[0m\u001b[0;34m\u001b[0m\u001b[0m\n\u001b[0;32m----> 4\u001b[0;31m \u001b[0mjob_monitor\u001b[0m\u001b[0;34m(\u001b[0m\u001b[0mjob\u001b[0m\u001b[0;34m)\u001b[0m\u001b[0;34m\u001b[0m\u001b[0;34m\u001b[0m\u001b[0m\n\u001b[0m",
      "\u001b[0;32m~/Library/Python/3.8/lib/python/site-packages/qiskit/tools/monitor/job_monitor.py\u001b[0m in \u001b[0;36mjob_monitor\u001b[0;34m(job, interval, quiet, output)\u001b[0m\n\u001b[1;32m     81\u001b[0m         \u001b[0m_interval_set\u001b[0m \u001b[0;34m=\u001b[0m \u001b[0;32mTrue\u001b[0m\u001b[0;34m\u001b[0m\u001b[0;34m\u001b[0m\u001b[0m\n\u001b[1;32m     82\u001b[0m \u001b[0;34m\u001b[0m\u001b[0m\n\u001b[0;32m---> 83\u001b[0;31m     _text_checker(job, interval, _interval_set,\n\u001b[0m\u001b[1;32m     84\u001b[0m                   quiet=quiet, output=output)\n",
      "\u001b[0;32m~/Library/Python/3.8/lib/python/site-packages/qiskit/tools/monitor/job_monitor.py\u001b[0m in \u001b[0;36m_text_checker\u001b[0;34m(job, interval, _interval_set, quiet, output)\u001b[0m\n\u001b[1;32m     39\u001b[0m     \u001b[0;32mwhile\u001b[0m \u001b[0mstatus\u001b[0m\u001b[0;34m.\u001b[0m\u001b[0mname\u001b[0m \u001b[0;32mnot\u001b[0m \u001b[0;32min\u001b[0m \u001b[0;34m[\u001b[0m\u001b[0;34m'DONE'\u001b[0m\u001b[0;34m,\u001b[0m \u001b[0;34m'CANCELLED'\u001b[0m\u001b[0;34m,\u001b[0m \u001b[0;34m'ERROR'\u001b[0m\u001b[0;34m]\u001b[0m\u001b[0;34m:\u001b[0m\u001b[0;34m\u001b[0m\u001b[0;34m\u001b[0m\u001b[0m\n\u001b[1;32m     40\u001b[0m         \u001b[0mtime\u001b[0m\u001b[0;34m.\u001b[0m\u001b[0msleep\u001b[0m\u001b[0;34m(\u001b[0m\u001b[0minterval\u001b[0m\u001b[0;34m)\u001b[0m\u001b[0;34m\u001b[0m\u001b[0;34m\u001b[0m\u001b[0m\n\u001b[0;32m---> 41\u001b[0;31m         \u001b[0mstatus\u001b[0m \u001b[0;34m=\u001b[0m \u001b[0mjob\u001b[0m\u001b[0;34m.\u001b[0m\u001b[0mstatus\u001b[0m\u001b[0;34m(\u001b[0m\u001b[0;34m)\u001b[0m\u001b[0;34m\u001b[0m\u001b[0;34m\u001b[0m\u001b[0m\n\u001b[0m\u001b[1;32m     42\u001b[0m         \u001b[0mmsg\u001b[0m \u001b[0;34m=\u001b[0m \u001b[0mstatus\u001b[0m\u001b[0;34m.\u001b[0m\u001b[0mvalue\u001b[0m\u001b[0;34m\u001b[0m\u001b[0;34m\u001b[0m\u001b[0m\n\u001b[1;32m     43\u001b[0m \u001b[0;34m\u001b[0m\u001b[0m\n",
      "\u001b[0;32m~/Library/Python/3.8/lib/python/site-packages/qiskit/providers/ibmq/job/ibmqjob.py\u001b[0m in \u001b[0;36mstatus\u001b[0;34m(self)\u001b[0m\n\u001b[1;32m    501\u001b[0m             \u001b[0mapi_response\u001b[0m \u001b[0;34m=\u001b[0m \u001b[0mself\u001b[0m\u001b[0;34m.\u001b[0m\u001b[0m_api_client\u001b[0m\u001b[0;34m.\u001b[0m\u001b[0mjob_status\u001b[0m\u001b[0;34m(\u001b[0m\u001b[0mself\u001b[0m\u001b[0;34m.\u001b[0m\u001b[0mjob_id\u001b[0m\u001b[0;34m(\u001b[0m\u001b[0;34m)\u001b[0m\u001b[0;34m)\u001b[0m\u001b[0;34m\u001b[0m\u001b[0;34m\u001b[0m\u001b[0m\n\u001b[1;32m    502\u001b[0m             \u001b[0mself\u001b[0m\u001b[0;34m.\u001b[0m\u001b[0m_api_status\u001b[0m \u001b[0;34m=\u001b[0m \u001b[0mapi_response\u001b[0m\u001b[0;34m[\u001b[0m\u001b[0;34m'status'\u001b[0m\u001b[0;34m]\u001b[0m\u001b[0;34m\u001b[0m\u001b[0;34m\u001b[0m\u001b[0m\n\u001b[0;32m--> 503\u001b[0;31m             self._status, self._queue_info = self._get_status_position(\n\u001b[0m\u001b[1;32m    504\u001b[0m                 self._api_status, api_response.get('info_queue', None))\n\u001b[1;32m    505\u001b[0m \u001b[0;34m\u001b[0m\u001b[0m\n",
      "\u001b[0;32m/Library/Developer/CommandLineTools/Library/Frameworks/Python3.framework/Versions/3.8/lib/python3.8/contextlib.py\u001b[0m in \u001b[0;36m__exit__\u001b[0;34m(self, type, value, traceback)\u001b[0m\n\u001b[1;32m    129\u001b[0m                 \u001b[0mvalue\u001b[0m \u001b[0;34m=\u001b[0m \u001b[0mtype\u001b[0m\u001b[0;34m(\u001b[0m\u001b[0;34m)\u001b[0m\u001b[0;34m\u001b[0m\u001b[0;34m\u001b[0m\u001b[0m\n\u001b[1;32m    130\u001b[0m             \u001b[0;32mtry\u001b[0m\u001b[0;34m:\u001b[0m\u001b[0;34m\u001b[0m\u001b[0;34m\u001b[0m\u001b[0m\n\u001b[0;32m--> 131\u001b[0;31m                 \u001b[0mself\u001b[0m\u001b[0;34m.\u001b[0m\u001b[0mgen\u001b[0m\u001b[0;34m.\u001b[0m\u001b[0mthrow\u001b[0m\u001b[0;34m(\u001b[0m\u001b[0mtype\u001b[0m\u001b[0;34m,\u001b[0m \u001b[0mvalue\u001b[0m\u001b[0;34m,\u001b[0m \u001b[0mtraceback\u001b[0m\u001b[0;34m)\u001b[0m\u001b[0;34m\u001b[0m\u001b[0;34m\u001b[0m\u001b[0m\n\u001b[0m\u001b[1;32m    132\u001b[0m             \u001b[0;32mexcept\u001b[0m \u001b[0mStopIteration\u001b[0m \u001b[0;32mas\u001b[0m \u001b[0mexc\u001b[0m\u001b[0;34m:\u001b[0m\u001b[0;34m\u001b[0m\u001b[0;34m\u001b[0m\u001b[0m\n\u001b[1;32m    133\u001b[0m                 \u001b[0;31m# Suppress StopIteration *unless* it's the same exception that\u001b[0m\u001b[0;34m\u001b[0m\u001b[0;34m\u001b[0m\u001b[0;34m\u001b[0m\u001b[0m\n",
      "\u001b[0;32m~/Library/Python/3.8/lib/python/site-packages/qiskit/providers/ibmq/job/utils.py\u001b[0m in \u001b[0;36mapi_to_job_error\u001b[0;34m()\u001b[0m\n\u001b[1;32m     59\u001b[0m         \u001b[0;32myield\u001b[0m\u001b[0;34m\u001b[0m\u001b[0;34m\u001b[0m\u001b[0m\n\u001b[1;32m     60\u001b[0m     \u001b[0;32mexcept\u001b[0m \u001b[0mApiError\u001b[0m \u001b[0;32mas\u001b[0m \u001b[0mapi_err\u001b[0m\u001b[0;34m:\u001b[0m\u001b[0;34m\u001b[0m\u001b[0;34m\u001b[0m\u001b[0m\n\u001b[0;32m---> 61\u001b[0;31m         \u001b[0;32mraise\u001b[0m \u001b[0mIBMQJobApiError\u001b[0m\u001b[0;34m(\u001b[0m\u001b[0mstr\u001b[0m\u001b[0;34m(\u001b[0m\u001b[0mapi_err\u001b[0m\u001b[0;34m)\u001b[0m\u001b[0;34m)\u001b[0m \u001b[0;32mfrom\u001b[0m \u001b[0mapi_err\u001b[0m\u001b[0;34m\u001b[0m\u001b[0;34m\u001b[0m\u001b[0m\n\u001b[0m",
      "\u001b[0;31mIBMQJobApiError\u001b[0m: \"'404 Client Error: Not Found for url: https://api.quantum-computing.ibm.com/api/Network/ibm-q/Groups/open/Projects/main/Jobs/60af695b273f303ac1b6ada0/status/v/1. Job not found., Error code: 3250.'\""
     ]
    }
   ],
   "source": [
    "# check status \n",
    "\n",
    "from qiskit.tools.monitor import job_monitor\n",
    "job_monitor(job)"
   ]
  },
  {
   "cell_type": "code",
   "execution_count": null,
   "metadata": {},
   "outputs": [],
   "source": [
    "# get results \n",
    "result = job.result()\n",
    "plot_histogram(result.get_counts(circuit))\n"
   ]
  },
  {
   "cell_type": "code",
   "execution_count": 19,
   "metadata": {},
   "outputs": [
    {
     "output_type": "stream",
     "name": "stderr",
     "text": [
      "/Users/JOAW-BOOK/Library/Python/3.8/lib/python/site-packages/qiskit/providers/ibmq/ibmqfactory.py:192: UserWarning: Timestamps in IBMQ backend properties, jobs, and job results are all now in local time instead of UTC.\n  warnings.warn('Timestamps in IBMQ backend properties, jobs, and job results '\nibmqfactory.load_account:WARNING:2021-05-26 17:40:10,298: Credentials are already in use. The existing account in the session will be replaced.\n"
     ]
    }
   ],
   "source": [
    "from qiskit import transpile, schedule as build_schedule\n",
    "from qiskit.test.mock import FakeAlmaden\n",
    "from qiskit import IBMQ\n",
    "from qiskit import pulse\n",
    "\n",
    "IBMQ.load_account()\n",
    "provider = IBMQ.get_provider(hub = 'ibm-q',group='open', project='main')\n",
    "qcomp = provider.get_backend('ibmq_16_melbourne')\n",
    "\n",
    "backend = qcomp\n",
    "\n",
    "\n",
    "\n",
    "\n"
   ]
  },
  {
   "cell_type": "code",
   "execution_count": 21,
   "metadata": {},
   "outputs": [
    {
     "output_type": "error",
     "ename": "QiskitError",
     "evalue": "'The backend defaults are unavailable. The backend may not support pulse.'",
     "traceback": [
      "\u001b[0;31m---------------------------------------------------------------------------\u001b[0m",
      "\u001b[0;31mQiskitError\u001b[0m                               Traceback (most recent call last)",
      "\u001b[0;32m<ipython-input-21-9a47af6d385e>\u001b[0m in \u001b[0;36m<module>\u001b[0;34m\u001b[0m\n\u001b[1;32m      1\u001b[0m \u001b[0;32mwith\u001b[0m \u001b[0mpulse\u001b[0m\u001b[0;34m.\u001b[0m\u001b[0mbuild\u001b[0m\u001b[0;34m(\u001b[0m\u001b[0mbackend\u001b[0m\u001b[0;34m)\u001b[0m \u001b[0;32mas\u001b[0m \u001b[0mu3_sched\u001b[0m\u001b[0;34m:\u001b[0m\u001b[0;34m\u001b[0m\u001b[0;34m\u001b[0m\u001b[0m\n\u001b[0;32m----> 2\u001b[0;31m     \u001b[0mpulse\u001b[0m\u001b[0;34m.\u001b[0m\u001b[0mu3\u001b[0m\u001b[0;34m(\u001b[0m\u001b[0mmath\u001b[0m\u001b[0;34m.\u001b[0m\u001b[0mpi\u001b[0m\u001b[0;34m,\u001b[0m \u001b[0;36m0\u001b[0m\u001b[0;34m,\u001b[0m \u001b[0mmath\u001b[0m\u001b[0;34m.\u001b[0m\u001b[0mpi\u001b[0m\u001b[0;34m,\u001b[0m \u001b[0;36m0\u001b[0m\u001b[0;34m)\u001b[0m\u001b[0;34m\u001b[0m\u001b[0;34m\u001b[0m\u001b[0m\n\u001b[0m\u001b[1;32m      3\u001b[0m \u001b[0;34m\u001b[0m\u001b[0m\n\u001b[1;32m      4\u001b[0m \u001b[0;32mwith\u001b[0m \u001b[0mpulse\u001b[0m\u001b[0;34m.\u001b[0m\u001b[0mbuild\u001b[0m\u001b[0;34m(\u001b[0m\u001b[0mbackend\u001b[0m\u001b[0;34m)\u001b[0m \u001b[0;32mas\u001b[0m \u001b[0mu3_sched\u001b[0m\u001b[0;34m:\u001b[0m\u001b[0;34m\u001b[0m\u001b[0;34m\u001b[0m\u001b[0m\n\u001b[1;32m      5\u001b[0m     \u001b[0mprint\u001b[0m\u001b[0;34m(\u001b[0m\u001b[0;34m'Number of qubit in backend: '\u001b[0m\u001b[0;34m.\u001b[0m\u001b[0mformat\u001b[0m\u001b[0;34m(\u001b[0m\u001b[0mpulse\u001b[0m\u001b[0;34m.\u001b[0m\u001b[0mnum_qubits\u001b[0m\u001b[0;34m(\u001b[0m\u001b[0;34m)\u001b[0m\u001b[0;34m)\u001b[0m\u001b[0;34m)\u001b[0m\u001b[0;34m\u001b[0m\u001b[0;34m\u001b[0m\u001b[0m\n",
      "\u001b[0;32m~/Library/Python/3.8/lib/python/site-packages/qiskit/pulse/builder.py\u001b[0m in \u001b[0;36mwrapper\u001b[0;34m(self, *args, **kwargs)\u001b[0m\n\u001b[1;32m    246\u001b[0m     \u001b[0;34m@\u001b[0m\u001b[0mfunctools\u001b[0m\u001b[0;34m.\u001b[0m\u001b[0mwraps\u001b[0m\u001b[0;34m(\u001b[0m\u001b[0mfunction\u001b[0m\u001b[0;34m)\u001b[0m\u001b[0;34m\u001b[0m\u001b[0;34m\u001b[0m\u001b[0m\n\u001b[1;32m    247\u001b[0m     \u001b[0;32mdef\u001b[0m \u001b[0mwrapper\u001b[0m\u001b[0;34m(\u001b[0m\u001b[0mself\u001b[0m\u001b[0;34m,\u001b[0m \u001b[0;34m*\u001b[0m\u001b[0margs\u001b[0m\u001b[0;34m,\u001b[0m \u001b[0;34m**\u001b[0m\u001b[0mkwargs\u001b[0m\u001b[0;34m)\u001b[0m\u001b[0;34m:\u001b[0m\u001b[0;34m\u001b[0m\u001b[0;34m\u001b[0m\u001b[0m\n\u001b[0;32m--> 248\u001b[0;31m         \u001b[0mself\u001b[0m\u001b[0;34m.\u001b[0m\u001b[0m_compile_lazy_circuit\u001b[0m\u001b[0;34m(\u001b[0m\u001b[0;34m)\u001b[0m\u001b[0;34m\u001b[0m\u001b[0;34m\u001b[0m\u001b[0m\n\u001b[0m\u001b[1;32m    249\u001b[0m         \u001b[0;32mreturn\u001b[0m \u001b[0mfunction\u001b[0m\u001b[0;34m(\u001b[0m\u001b[0mself\u001b[0m\u001b[0;34m,\u001b[0m \u001b[0;34m*\u001b[0m\u001b[0margs\u001b[0m\u001b[0;34m,\u001b[0m \u001b[0;34m**\u001b[0m\u001b[0mkwargs\u001b[0m\u001b[0;34m)\u001b[0m\u001b[0;34m\u001b[0m\u001b[0;34m\u001b[0m\u001b[0m\n\u001b[1;32m    250\u001b[0m     \u001b[0;32mreturn\u001b[0m \u001b[0mwrapper\u001b[0m\u001b[0;34m\u001b[0m\u001b[0;34m\u001b[0m\u001b[0m\n",
      "\u001b[0;32m~/Library/Python/3.8/lib/python/site-packages/qiskit/pulse/builder.py\u001b[0m in \u001b[0;36m_compile_lazy_circuit\u001b[0;34m(self)\u001b[0m\n\u001b[1;32m    428\u001b[0m             \u001b[0;31m# reset lazy circuit\u001b[0m\u001b[0;34m\u001b[0m\u001b[0;34m\u001b[0m\u001b[0;34m\u001b[0m\u001b[0m\n\u001b[1;32m    429\u001b[0m             \u001b[0mself\u001b[0m\u001b[0;34m.\u001b[0m\u001b[0m_lazy_circuit\u001b[0m \u001b[0;34m=\u001b[0m \u001b[0mself\u001b[0m\u001b[0;34m.\u001b[0m\u001b[0mnew_circuit\u001b[0m\u001b[0;34m(\u001b[0m\u001b[0;34m)\u001b[0m\u001b[0;34m\u001b[0m\u001b[0;34m\u001b[0m\u001b[0m\n\u001b[0;32m--> 430\u001b[0;31m             \u001b[0mself\u001b[0m\u001b[0;34m.\u001b[0m\u001b[0mcall_schedule\u001b[0m\u001b[0;34m(\u001b[0m\u001b[0mself\u001b[0m\u001b[0;34m.\u001b[0m\u001b[0m_compile_circuit\u001b[0m\u001b[0;34m(\u001b[0m\u001b[0mlazy_circuit\u001b[0m\u001b[0;34m)\u001b[0m\u001b[0;34m)\u001b[0m\u001b[0;34m\u001b[0m\u001b[0;34m\u001b[0m\u001b[0m\n\u001b[0m\u001b[1;32m    431\u001b[0m \u001b[0;34m\u001b[0m\u001b[0m\n\u001b[1;32m    432\u001b[0m     \u001b[0;32mdef\u001b[0m \u001b[0m_compile_circuit\u001b[0m\u001b[0;34m(\u001b[0m\u001b[0mself\u001b[0m\u001b[0;34m,\u001b[0m \u001b[0mcirc\u001b[0m\u001b[0;34m)\u001b[0m \u001b[0;34m->\u001b[0m \u001b[0mSchedule\u001b[0m\u001b[0;34m:\u001b[0m\u001b[0;34m\u001b[0m\u001b[0;34m\u001b[0m\u001b[0m\n",
      "\u001b[0;32m~/Library/Python/3.8/lib/python/site-packages/qiskit/pulse/builder.py\u001b[0m in \u001b[0;36m_compile_circuit\u001b[0;34m(self, circ)\u001b[0m\n\u001b[1;32m    437\u001b[0m                                                 \u001b[0mself\u001b[0m\u001b[0;34m.\u001b[0m\u001b[0mbackend\u001b[0m\u001b[0;34m,\u001b[0m\u001b[0;34m\u001b[0m\u001b[0;34m\u001b[0m\u001b[0m\n\u001b[1;32m    438\u001b[0m                                                 **self.transpiler_settings)\n\u001b[0;32m--> 439\u001b[0;31m         sched = compiler.schedule(transpiled_circuit,\n\u001b[0m\u001b[1;32m    440\u001b[0m                                   \u001b[0mself\u001b[0m\u001b[0;34m.\u001b[0m\u001b[0mbackend\u001b[0m\u001b[0;34m,\u001b[0m\u001b[0;34m\u001b[0m\u001b[0;34m\u001b[0m\u001b[0m\n\u001b[1;32m    441\u001b[0m                                   **self.circuit_scheduler_settings)\n",
      "\u001b[0;32m~/Library/Python/3.8/lib/python/site-packages/qiskit/compiler/scheduler.py\u001b[0m in \u001b[0;36mschedule\u001b[0;34m(circuits, backend, inst_map, meas_map, dt, method)\u001b[0m\n\u001b[1;32m     71\u001b[0m         \u001b[0mdefaults\u001b[0m \u001b[0;34m=\u001b[0m \u001b[0mbackend\u001b[0m\u001b[0;34m.\u001b[0m\u001b[0mdefaults\u001b[0m\u001b[0;34m(\u001b[0m\u001b[0;34m)\u001b[0m\u001b[0;34m\u001b[0m\u001b[0;34m\u001b[0m\u001b[0m\n\u001b[1;32m     72\u001b[0m         \u001b[0;32mif\u001b[0m \u001b[0mdefaults\u001b[0m \u001b[0;32mis\u001b[0m \u001b[0;32mNone\u001b[0m\u001b[0;34m:\u001b[0m\u001b[0;34m\u001b[0m\u001b[0;34m\u001b[0m\u001b[0m\n\u001b[0;32m---> 73\u001b[0;31m             raise QiskitError(\"The backend defaults are unavailable. The backend may not \"\n\u001b[0m\u001b[1;32m     74\u001b[0m                               \"support pulse.\")\n\u001b[1;32m     75\u001b[0m         \u001b[0minst_map\u001b[0m \u001b[0;34m=\u001b[0m \u001b[0mdefaults\u001b[0m\u001b[0;34m.\u001b[0m\u001b[0minstruction_schedule_map\u001b[0m\u001b[0;34m\u001b[0m\u001b[0;34m\u001b[0m\u001b[0m\n",
      "\u001b[0;31mQiskitError\u001b[0m: 'The backend defaults are unavailable. The backend may not support pulse.'"
     ]
    }
   ],
   "source": [
    "with pulse.build(backend) as u3_sched:\n",
    "    pulse.u3(math.pi, 0, math.pi, 0)\n",
    "    \n",
    "with pulse.build(backend) as u3_sched:\n",
    "    print('Number of qubit in backend: '.format(pulse.num_qubits()))\n",
    "\n",
    "    samples = 160\n",
    "    print('There are {} samples in {} seconds'.format(\n",
    "        samples, pulse.samples_to_seconds(160)))\n",
    "\n",
    "    seconds = 1e-6\n",
    "    print('There are {} seconds in {} samples.'.format(\n",
    "        seconds, pulse.seconds_to_samples(1e-6)))"
   ]
  },
  {
   "cell_type": "code",
   "execution_count": null,
   "metadata": {},
   "outputs": [],
   "source": [
    "\n",
    "transpiled_circ = transpile(circ, backend)  # Undefined Hadamard is replaced by U1\n",
    "schedule = build_schedule(transpiled_circ, backend)\n",
    "circuit.draw()"
   ]
  },
  {
   "cell_type": "code",
   "execution_count": null,
   "metadata": {},
   "outputs": [],
   "source": [
    "IBMQ.load_account()\n",
    "provider = IBMQ.get_provider(hub = 'ibm-q',group='open', project='main')\n",
    "qcomp = provider.get_backend('ibmq_16_melbourne')\n",
    "\n",
    "backend = qcomp"
   ]
  },
  {
   "cell_type": "code",
   "execution_count": null,
   "metadata": {},
   "outputs": [],
   "source": []
  }
 ],
 "metadata": {
  "kernelspec": {
   "display_name": "Python 3",
   "language": "python",
   "name": "python3"
  },
  "language_info": {
   "codemirror_mode": {
    "name": "ipython",
    "version": 3
   },
   "file_extension": ".py",
   "mimetype": "text/x-python",
   "name": "python",
   "nbconvert_exporter": "python",
   "pygments_lexer": "ipython3",
   "version": "3.8.2"
  }
 },
 "nbformat": 4,
 "nbformat_minor": 4
}
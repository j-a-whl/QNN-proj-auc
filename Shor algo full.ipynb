{
 "cells": [
  {
   "cell_type": "code",
   "execution_count": 119,
   "metadata": {},
   "outputs": [],
   "source": [
    "import qiskit\n",
    "\n",
    "from qiskit.aqua.algorithms.factorizers import Shor\n",
    "from qiskit.algorithms import ShorResult\n",
    "from qiskit.utils import QuantumInstance\n",
    "import numpy as np\n",
    "import math\n",
    "from qiskit import QuantumCircuit, Aer, execute\n",
    "from qiskit.tools.visualization import plot_histogram"
   ]
  },
  {
   "cell_type": "markdown",
   "metadata": {},
   "source": [
    "# General background"
   ]
  },
  {
   "cell_type": "markdown",
   "metadata": {},
   "source": [
    "https://quantum-computing.ibm.com/composer/docs/iqx/guide/shors-algorithm\n"
   ]
  },
  {
   "cell_type": "markdown",
   "metadata": {},
   "source": [
    "Task: factor a number N into its prime factors\n",
    "\n",
    "Step 1:\n",
    "convert from a factor finding problem to a period finding problem using the Modular Exponentiation Function\n",
    "https://quantum-computing.ibm.com/composer/docs/iqx/guide/shors-algorithm This takes in the number N and some guess a, divides N with a to get the remainder, and hopes that this function is periodic if u increase the power of a. THis usually happens.\n",
    "\n",
    "Step 2:\n",
    "Quantum Fourier transform takes in this periodic function and tries to find its period r. This is qhere the quantum speed-up happens.\n",
    "\n",
    "Step 3:\n",
    "Now we have a=guess number; r=period of modular exponentiation function; Now:\n",
    "P=a^(r/2)-1\n",
    "Q=a^(r/2)+1\n",
    "P and Q have co-factors in commmon with N"
   ]
  },
  {
   "cell_type": "markdown",
   "metadata": {},
   "source": [
    "# First way for any N, works"
   ]
  },
  {
   "cell_type": "markdown",
   "metadata": {},
   "source": [
    "implementation: https://qiskit.org/documentation/tutorials/algorithms/09_textbook_algorithms.html"
   ]
  },
  {
   "cell_type": "markdown",
   "metadata": {},
   "source": [
    "function documentation:\n",
    "    https://qiskit.org/documentation/stubs/qiskit.aqua.algorithms.Shor.html"
   ]
  },
  {
   "cell_type": "markdown",
   "metadata": {},
   "source": [
    "full implementation by IBM: \n",
    "    https://www.qiskit.org/documentation/_modules/qiskit/algorithms/factorizers/shor.html"
   ]
  },
  {
   "cell_type": "code",
   "execution_count": null,
   "metadata": {},
   "outputs": [],
   "source": [
    "#N: The integer to be factored, has a min. value of 3.\n",
    "       #     a: Any integer that satisfies 1 < a < N and gcd(a, N) = 1.\n",
    "         #   measurement: Boolean flag to indicate if measurement should be included in the circuit.\n",
    "N = 15\n",
    "shor = Shor(N)\n",
    "backend = Aer.get_backend('qasm_simulator')\n",
    "quantum_instance = QuantumInstance(backend, shots=1024) #shots is the number of repetitions of each circuit, for sampling\n",
    "result = shor.run(quantum_instance)\n",
    "print(f\"The list of factors of {N} as computed by the Shor's algorithm is {result['factors'][0]}.\")"
   ]
  },
  {
   "cell_type": "code",
   "execution_count": null,
   "metadata": {},
   "outputs": [],
   "source": [
    "#Space complexity\n",
    "\n",
    "#Note: this implementation of Shor’s algorithm uses 4𝑛+2 qubits\n",
    "#where 𝑛 is the number of bits representing the integer N in binary. \n",
    "#So in practice, for now, this implementation is restricted to factorizing small integers. \n",
    "#Given the above value of N we compute 4𝑛+2below and confirm the size from the actual circuit.\n",
    "print('the number {} takes {} bits to be represented in binary'.format(N,math.ceil(math.log(N,2))))\n",
    "print('the number of qubits Shor uses to factorise it is 4 x {} + 2 = {}'.format(math.ceil(math.log(N, 2)),4 * math.ceil(math.log(N, 2)) + 2))\n",
    "print(f'Actual number of qubits of circuit: {shor.construct_circuit().num_qubits}')\n",
    "\n",
    "#What about time complexity\n",
    "#address shots?\n",
    "#print probabilities?\n",
    "\n",
    "#Let's look at how long it takes to factor a number with this many qubits, increase this in steps to see if the predictions are true for\n",
    "#When it might be possible to break RSA"
   ]
  },
  {
   "cell_type": "markdown",
   "metadata": {},
   "source": [
    "# Second way for any N, works"
   ]
  },
  {
   "cell_type": "markdown",
   "metadata": {},
   "source": [
    "from https://www.youtube.com/watch?v=EdJ7RoWcU48"
   ]
  },
  {
   "cell_type": "code",
   "execution_count": 198,
   "metadata": {},
   "outputs": [
    {
     "data": {
      "text/plain": [
       "{'factors': [[3, 5]], 'total_counts': 59, 'successful_counts': 18}"
      ]
     },
     "execution_count": 198,
     "metadata": {},
     "output_type": "execute_result"
    }
   ],
   "source": [
    "backend=Aer.get_backend('qasm_simulator')\n",
    "quantum_instance=QuantumInstance(backend, shots=1000)\n",
    "my_shor=Shor(N=15,a=2,quantum_instance=quantum_instance)\n",
    "result=Shor.run(my_shor)\n",
    "result #returns successful_counts which tells the number of experiments tried which gave the right factors"
   ]
  },
  {
   "cell_type": "markdown",
   "metadata": {},
   "source": [
    "# Frist way for N=15 in detail, fails\n"
   ]
  },
  {
   "cell_type": "markdown",
   "metadata": {},
   "source": [
    "code: https://www.youtube.com/watch?v=EdJ7RoWcU48"
   ]
  },
  {
   "cell_type": "markdown",
   "metadata": {},
   "source": [
    "paper: https://arxiv.org/pdf/quant-ph/0205095.pdf"
   ]
  },
  {
   "cell_type": "code",
   "execution_count": 126,
   "metadata": {},
   "outputs": [],
   "source": [
    "#Modular exponentiation function, hardcoded for N=15\n",
    "def c_amod15(a, power):\n",
    "    U=QuantumCircuit(4)\n",
    "    for iteration in range(power):\n",
    "        U.swap(2,3)\n",
    "        U.swap(1,2)\n",
    "        U.swap(0,1)\n",
    "        for q in range(4):\n",
    "            U.x(q)\n",
    "    U=U.to_gate()\n",
    "    U.name='%i^%i mod 15' %(1,power)\n",
    "    c_U=U.control()\n",
    "    return c_U"
   ]
  },
  {
   "cell_type": "code",
   "execution_count": 127,
   "metadata": {},
   "outputs": [],
   "source": [
    "n_count=8 #number of qubits counting the exponent\n",
    "a=7 #guess\n",
    "\n"
   ]
  },
  {
   "cell_type": "code",
   "execution_count": 128,
   "metadata": {},
   "outputs": [],
   "source": [
    "#Now the quantum fourier transform circuit\n",
    "def qft_dagger(n):\n",
    "    qc=QuantumCircuit(n)\n",
    "    for qubit in range(n//2):\n",
    "        qc.swap(qubit, n-qubit-1)\n",
    "    for j in range(n):\n",
    "        for m in range(j):\n",
    "            qc.cp(-np.pi/float(2**(j-m)),m,j)\n",
    "        qc.h(j)\n",
    "    qc.name='QFT dagger'\n",
    "    return qc\n",
    "    \n",
    "    "
   ]
  },
  {
   "cell_type": "code",
   "execution_count": 129,
   "metadata": {},
   "outputs": [
    {
     "data": {
      "text/html": [
       "<pre style=\"word-wrap: normal;white-space: pre;background: #fff0;line-height: 1.1;font-family: &quot;Courier New&quot;,Courier,monospace\">      ┌───┐                                                            »\n",
       " q_0: ┤ H ├───────■────────────────────────────────────────────────────»\n",
       "      ├───┤       │                                                    »\n",
       " q_1: ┤ H ├───────┼──────────────■─────────────────────────────────────»\n",
       "      ├───┤       │              │                                     »\n",
       " q_2: ┤ H ├───────┼──────────────┼──────────────■──────────────────────»\n",
       "      ├───┤       │              │              │                      »\n",
       " q_3: ┤ H ├───────┼──────────────┼──────────────┼──────────────■───────»\n",
       "      ├───┤       │              │              │              │       »\n",
       " q_4: ┤ H ├───────┼──────────────┼──────────────┼──────────────┼───────»\n",
       "      ├───┤       │              │              │              │       »\n",
       " q_5: ┤ H ├───────┼──────────────┼──────────────┼──────────────┼───────»\n",
       "      ├───┤       │              │              │              │       »\n",
       " q_6: ┤ H ├───────┼──────────────┼──────────────┼──────────────┼───────»\n",
       "      ├───┤       │              │              │              │       »\n",
       " q_7: ┤ H ├───────┼──────────────┼──────────────┼──────────────┼───────»\n",
       "      └───┘┌──────┴──────┐┌──────┴──────┐┌──────┴──────┐┌──────┴──────┐»\n",
       " q_8: ─────┤0            ├┤0            ├┤0            ├┤0            ├»\n",
       "           │             ││             ││             ││             │»\n",
       " q_9: ─────┤1            ├┤1            ├┤1            ├┤1            ├»\n",
       "           │  1^1 mod 15 ││  1^2 mod 15 ││  1^4 mod 15 ││  1^8 mod 15 │»\n",
       "q_10: ─────┤2            ├┤2            ├┤2            ├┤2            ├»\n",
       "      ┌───┐│             ││             ││             ││             │»\n",
       "q_11: ┤ X ├┤3            ├┤3            ├┤3            ├┤3            ├»\n",
       "      └───┘└─────────────┘└─────────────┘└─────────────┘└─────────────┘»\n",
       " c: 8/═════════════════════════════════════════════════════════════════»\n",
       "                                                                       »\n",
       "«                                                                       »\n",
       "« q_0: ─────────────────────────────────────────────────────────────────»\n",
       "«                                                                       »\n",
       "« q_1: ─────────────────────────────────────────────────────────────────»\n",
       "«                                                                       »\n",
       "« q_2: ─────────────────────────────────────────────────────────────────»\n",
       "«                                                                       »\n",
       "« q_3: ─────────────────────────────────────────────────────────────────»\n",
       "«                                                                       »\n",
       "« q_4: ───────■─────────────────────────────────────────────────────────»\n",
       "«             │                                                         »\n",
       "« q_5: ───────┼───────────────■─────────────────────────────────────────»\n",
       "«             │               │                                         »\n",
       "« q_6: ───────┼───────────────┼───────────────■─────────────────────────»\n",
       "«             │               │               │                         »\n",
       "« q_7: ───────┼───────────────┼───────────────┼────────────────■────────»\n",
       "«      ┌──────┴───────┐┌──────┴───────┐┌──────┴───────┐┌───────┴───────┐»\n",
       "« q_8: ┤0             ├┤0             ├┤0             ├┤0              ├»\n",
       "«      │              ││              ││              ││               │»\n",
       "« q_9: ┤1             ├┤1             ├┤1             ├┤1              ├»\n",
       "«      │  1^16 mod 15 ││  1^32 mod 15 ││  1^64 mod 15 ││  1^128 mod 15 │»\n",
       "«q_10: ┤2             ├┤2             ├┤2             ├┤2              ├»\n",
       "«      │              ││              ││              ││               │»\n",
       "«q_11: ┤3             ├┤3             ├┤3             ├┤3              ├»\n",
       "«      └──────────────┘└──────────────┘└──────────────┘└───────────────┘»\n",
       "« c: 8/═════════════════════════════════════════════════════════════════»\n",
       "«                                                                       »\n",
       "«      ┌─────────────┐┌─┐                     ┌─┐                     \n",
       "« q_0: ┤0            ├┤M├─────────────────────┤M├─────────────────────\n",
       "«      │             │└╥┘┌─┐                  └╥┘┌─┐                  \n",
       "« q_1: ┤1            ├─╫─┤M├───────────────────╫─┤M├──────────────────\n",
       "«      │             │ ║ └╥┘┌─┐                ║ └╥┘┌─┐               \n",
       "« q_2: ┤2            ├─╫──╫─┤M├────────────────╫──╫─┤M├───────────────\n",
       "«      │             │ ║  ║ └╥┘┌─┐             ║  ║ └╥┘┌─┐            \n",
       "« q_3: ┤3            ├─╫──╫──╫─┤M├─────────────╫──╫──╫─┤M├────────────\n",
       "«      │  QFT dagger │ ║  ║  ║ └╥┘┌─┐          ║  ║  ║ └╥┘┌─┐         \n",
       "« q_4: ┤4            ├─╫──╫──╫──╫─┤M├──────────╫──╫──╫──╫─┤M├─────────\n",
       "«      │             │ ║  ║  ║  ║ └╥┘┌─┐       ║  ║  ║  ║ └╥┘┌─┐      \n",
       "« q_5: ┤5            ├─╫──╫──╫──╫──╫─┤M├───────╫──╫──╫──╫──╫─┤M├──────\n",
       "«      │             │ ║  ║  ║  ║  ║ └╥┘┌─┐    ║  ║  ║  ║  ║ └╥┘┌─┐   \n",
       "« q_6: ┤6            ├─╫──╫──╫──╫──╫──╫─┤M├────╫──╫──╫──╫──╫──╫─┤M├───\n",
       "«      │             │ ║  ║  ║  ║  ║  ║ └╥┘┌─┐ ║  ║  ║  ║  ║  ║ └╥┘┌─┐\n",
       "« q_7: ┤7            ├─╫──╫──╫──╫──╫──╫──╫─┤M├─╫──╫──╫──╫──╫──╫──╫─┤M├\n",
       "«      └─────────────┘ ║  ║  ║  ║  ║  ║  ║ └╥┘ ║  ║  ║  ║  ║  ║  ║ └╥┘\n",
       "« q_8: ────────────────╫──╫──╫──╫──╫──╫──╫──╫──╫──╫──╫──╫──╫──╫──╫──╫─\n",
       "«                      ║  ║  ║  ║  ║  ║  ║  ║  ║  ║  ║  ║  ║  ║  ║  ║ \n",
       "« q_9: ────────────────╫──╫──╫──╫──╫──╫──╫──╫──╫──╫──╫──╫──╫──╫──╫──╫─\n",
       "«                      ║  ║  ║  ║  ║  ║  ║  ║  ║  ║  ║  ║  ║  ║  ║  ║ \n",
       "«q_10: ────────────────╫──╫──╫──╫──╫──╫──╫──╫──╫──╫──╫──╫──╫──╫──╫──╫─\n",
       "«                      ║  ║  ║  ║  ║  ║  ║  ║  ║  ║  ║  ║  ║  ║  ║  ║ \n",
       "«q_11: ────────────────╫──╫──╫──╫──╫──╫──╫──╫──╫──╫──╫──╫──╫──╫──╫──╫─\n",
       "«                      ║  ║  ║  ║  ║  ║  ║  ║  ║  ║  ║  ║  ║  ║  ║  ║ \n",
       "« c: 8/════════════════╩══╩══╩══╩══╩══╩══╩══╩══╩══╩══╩══╩══╩══╩══╩══╩═\n",
       "«                      0  1  2  3  4  5  6  7  0  1  2  3  4  5  6  7 </pre>"
      ],
      "text/plain": [
       "      ┌───┐                                                            »\n",
       " q_0: ┤ H ├───────■────────────────────────────────────────────────────»\n",
       "      ├───┤       │                                                    »\n",
       " q_1: ┤ H ├───────┼──────────────■─────────────────────────────────────»\n",
       "      ├───┤       │              │                                     »\n",
       " q_2: ┤ H ├───────┼──────────────┼──────────────■──────────────────────»\n",
       "      ├───┤       │              │              │                      »\n",
       " q_3: ┤ H ├───────┼──────────────┼──────────────┼──────────────■───────»\n",
       "      ├───┤       │              │              │              │       »\n",
       " q_4: ┤ H ├───────┼──────────────┼──────────────┼──────────────┼───────»\n",
       "      ├───┤       │              │              │              │       »\n",
       " q_5: ┤ H ├───────┼──────────────┼──────────────┼──────────────┼───────»\n",
       "      ├───┤       │              │              │              │       »\n",
       " q_6: ┤ H ├───────┼──────────────┼──────────────┼──────────────┼───────»\n",
       "      ├───┤       │              │              │              │       »\n",
       " q_7: ┤ H ├───────┼──────────────┼──────────────┼──────────────┼───────»\n",
       "      └───┘┌──────┴──────┐┌──────┴──────┐┌──────┴──────┐┌──────┴──────┐»\n",
       " q_8: ─────┤0            ├┤0            ├┤0            ├┤0            ├»\n",
       "           │             ││             ││             ││             │»\n",
       " q_9: ─────┤1            ├┤1            ├┤1            ├┤1            ├»\n",
       "           │  1^1 mod 15 ││  1^2 mod 15 ││  1^4 mod 15 ││  1^8 mod 15 │»\n",
       "q_10: ─────┤2            ├┤2            ├┤2            ├┤2            ├»\n",
       "      ┌───┐│             ││             ││             ││             │»\n",
       "q_11: ┤ X ├┤3            ├┤3            ├┤3            ├┤3            ├»\n",
       "      └───┘└─────────────┘└─────────────┘└─────────────┘└─────────────┘»\n",
       " c: 8/═════════════════════════════════════════════════════════════════»\n",
       "                                                                       »\n",
       "«                                                                       »\n",
       "« q_0: ─────────────────────────────────────────────────────────────────»\n",
       "«                                                                       »\n",
       "« q_1: ─────────────────────────────────────────────────────────────────»\n",
       "«                                                                       »\n",
       "« q_2: ─────────────────────────────────────────────────────────────────»\n",
       "«                                                                       »\n",
       "« q_3: ─────────────────────────────────────────────────────────────────»\n",
       "«                                                                       »\n",
       "« q_4: ───────■─────────────────────────────────────────────────────────»\n",
       "«             │                                                         »\n",
       "« q_5: ───────┼───────────────■─────────────────────────────────────────»\n",
       "«             │               │                                         »\n",
       "« q_6: ───────┼───────────────┼───────────────■─────────────────────────»\n",
       "«             │               │               │                         »\n",
       "« q_7: ───────┼───────────────┼───────────────┼────────────────■────────»\n",
       "«      ┌──────┴───────┐┌──────┴───────┐┌──────┴───────┐┌───────┴───────┐»\n",
       "« q_8: ┤0             ├┤0             ├┤0             ├┤0              ├»\n",
       "«      │              ││              ││              ││               │»\n",
       "« q_9: ┤1             ├┤1             ├┤1             ├┤1              ├»\n",
       "«      │  1^16 mod 15 ││  1^32 mod 15 ││  1^64 mod 15 ││  1^128 mod 15 │»\n",
       "«q_10: ┤2             ├┤2             ├┤2             ├┤2              ├»\n",
       "«      │              ││              ││              ││               │»\n",
       "«q_11: ┤3             ├┤3             ├┤3             ├┤3              ├»\n",
       "«      └──────────────┘└──────────────┘└──────────────┘└───────────────┘»\n",
       "« c: 8/═════════════════════════════════════════════════════════════════»\n",
       "«                                                                       »\n",
       "«      ┌─────────────┐┌─┐                     ┌─┐                     \n",
       "« q_0: ┤0            ├┤M├─────────────────────┤M├─────────────────────\n",
       "«      │             │└╥┘┌─┐                  └╥┘┌─┐                  \n",
       "« q_1: ┤1            ├─╫─┤M├───────────────────╫─┤M├──────────────────\n",
       "«      │             │ ║ └╥┘┌─┐                ║ └╥┘┌─┐               \n",
       "« q_2: ┤2            ├─╫──╫─┤M├────────────────╫──╫─┤M├───────────────\n",
       "«      │             │ ║  ║ └╥┘┌─┐             ║  ║ └╥┘┌─┐            \n",
       "« q_3: ┤3            ├─╫──╫──╫─┤M├─────────────╫──╫──╫─┤M├────────────\n",
       "«      │  QFT dagger │ ║  ║  ║ └╥┘┌─┐          ║  ║  ║ └╥┘┌─┐         \n",
       "« q_4: ┤4            ├─╫──╫──╫──╫─┤M├──────────╫──╫──╫──╫─┤M├─────────\n",
       "«      │             │ ║  ║  ║  ║ └╥┘┌─┐       ║  ║  ║  ║ └╥┘┌─┐      \n",
       "« q_5: ┤5            ├─╫──╫──╫──╫──╫─┤M├───────╫──╫──╫──╫──╫─┤M├──────\n",
       "«      │             │ ║  ║  ║  ║  ║ └╥┘┌─┐    ║  ║  ║  ║  ║ └╥┘┌─┐   \n",
       "« q_6: ┤6            ├─╫──╫──╫──╫──╫──╫─┤M├────╫──╫──╫──╫──╫──╫─┤M├───\n",
       "«      │             │ ║  ║  ║  ║  ║  ║ └╥┘┌─┐ ║  ║  ║  ║  ║  ║ └╥┘┌─┐\n",
       "« q_7: ┤7            ├─╫──╫──╫──╫──╫──╫──╫─┤M├─╫──╫──╫──╫──╫──╫──╫─┤M├\n",
       "«      └─────────────┘ ║  ║  ║  ║  ║  ║  ║ └╥┘ ║  ║  ║  ║  ║  ║  ║ └╥┘\n",
       "« q_8: ────────────────╫──╫──╫──╫──╫──╫──╫──╫──╫──╫──╫──╫──╫──╫──╫──╫─\n",
       "«                      ║  ║  ║  ║  ║  ║  ║  ║  ║  ║  ║  ║  ║  ║  ║  ║ \n",
       "« q_9: ────────────────╫──╫──╫──╫──╫──╫──╫──╫──╫──╫──╫──╫──╫──╫──╫──╫─\n",
       "«                      ║  ║  ║  ║  ║  ║  ║  ║  ║  ║  ║  ║  ║  ║  ║  ║ \n",
       "«q_10: ────────────────╫──╫──╫──╫──╫──╫──╫──╫──╫──╫──╫──╫──╫──╫──╫──╫─\n",
       "«                      ║  ║  ║  ║  ║  ║  ║  ║  ║  ║  ║  ║  ║  ║  ║  ║ \n",
       "«q_11: ────────────────╫──╫──╫──╫──╫──╫──╫──╫──╫──╫──╫──╫──╫──╫──╫──╫─\n",
       "«                      ║  ║  ║  ║  ║  ║  ║  ║  ║  ║  ║  ║  ║  ║  ║  ║ \n",
       "« c: 8/════════════════╩══╩══╩══╩══╩══╩══╩══╩══╩══╩══╩══╩══╩══╩══╩══╩═\n",
       "«                      0  1  2  3  4  5  6  7  0  1  2  3  4  5  6  7 "
      ]
     },
     "execution_count": 129,
     "metadata": {},
     "output_type": "execute_result"
    }
   ],
   "source": [
    "qc=QuantumCircuit(n_count +4,n_count)\n",
    "for q in range(n_count):\n",
    "    qc.h(q)\n",
    "\n",
    "qc.x(3+n_count)\n",
    "\n",
    "for q in range(n_count):\n",
    "    qc.append(c_amod15(1,2**q),[q]+[i+n_count for i in range(4)])\n",
    "qc.append(qft_dagger(n_count),range(n_count))\n",
    "\n",
    "qc.measure(range(n_count),range(n_count))\n",
    "qc.measure(range(n_count),range(n_count))\n",
    "\n",
    "qc.draw('text')"
   ]
  },
  {
   "cell_type": "markdown",
   "metadata": {},
   "source": [
    "Looking at the circuit above, we first put the counting qubits into the superposition using the Haddamard gates; then we apply the modular exponentiation function to reduce the problem to period finding; and we do quantum fourier transform and measure in the end. this is a hard coded implementation of the general Shors algo for N=15\n"
   ]
  },
  {
   "cell_type": "code",
   "execution_count": 136,
   "metadata": {},
   "outputs": [
    {
     "data": {
      "image/png": "[encoded data removed]",
      "text/plain": [
       "<Figure size 504x360 with 1 Axes>"
      ]
     },
     "execution_count": 136,
     "metadata": {},
     "output_type": "execute_result"
    }
   ],
   "source": [
    "#now we run the circuit above\n",
    "backend=Aer.get_backend('qasm_simulator')\n",
    "results=execute(qc,backend, shots=2048).result()\n",
    "counts=results.get_counts()\n",
    "plot_histogram(counts)"
   ]
  },
  {
   "cell_type": "markdown",
   "metadata": {},
   "source": [
    "  Now looking at the above, our algo gave us back four possible values for period r, written in binary. There are 7 binaries, so we interpret the solutions as follows: for a given outcome of the four above, translate this into base 10, divide it with 2^8=256, and once this is simplified your answer is 1/r. This way we get r=1,2,4\n",
    "  "
   ]
  },
  {
   "cell_type": "code",
   "execution_count": 146,
   "metadata": {},
   "outputs": [
    {
     "name": "stdout",
     "output_type": "stream",
     "text": [
      "Measured periods:\t0\t1\t2\t3\t"
     ]
    }
   ],
   "source": [
    "# convert and add binary periods to list\n",
    "counts_dec = sorted([int(measured_value[::-1], 2)\n",
    "                     for measured_value in counts])\n",
    "\n",
    "print(\"Measured periods:\", end='\\t')\n",
    "periods=[]\n",
    "for measured_value in counts_dec:\n",
    "    periods.append(measured_value)\n",
    "    print(measured_value, end='\\t')"
   ]
  },
  {
   "cell_type": "code",
   "execution_count": 147,
   "metadata": {},
   "outputs": [
    {
     "name": "stdout",
     "output_type": "stream",
     "text": [
      "Shor's Algorithm Failed. Choose a different 'a'.\n"
     ]
    }
   ],
   "source": [
    "\n",
    "factors = set()\n",
    "\n",
    "for x in periods:\n",
    "    guesses = [math.gcd(int((a ** (measured_value/2))) + 1, N),\n",
    "               math.gcd(int((a ** (measured_value/2))) - 1, N)]\n",
    "    for guess in guesses:\n",
    "        # ignore trivial factors\n",
    "        if guess != 1 and guess != N and N % guess == 0:\n",
    "            factors.add(guess)\n",
    "\n",
    "if len(factors):\n",
    "    P = factors.pop()\n",
    "    Q = factors.pop() if len(factors) else N // P\n",
    "    print(f\"P = {P}\\nQ = {Q}\\n\\n\",\n",
    "          f\"{P} x {Q} = {N}, {P * Q == N}\")\n",
    "else:\n",
    "    print(\"Shor's Algorithm Failed. Choose a different 'a'.\")"
   ]
  },
  {
   "cell_type": "markdown",
   "metadata": {},
   "source": [
    "# Second way for N=15 in detail, works"
   ]
  },
  {
   "cell_type": "markdown",
   "metadata": {},
   "source": [
    "https://medium.com/qiskit/applying-shors-algorithm-bbdfd6f05f7d"
   ]
  },
  {
   "cell_type": "code",
   "execution_count": 199,
   "metadata": {},
   "outputs": [
    {
     "name": "stdout",
     "output_type": "stream",
     "text": [
      "1 < 7 < 15, True\n"
     ]
    }
   ],
   "source": [
    "from numpy.random import seed, randint\n",
    "# imports for RSA\n",
    "from numpy import gcd\n",
    "from numpy.random import seed, randint\n",
    "# imports for Shor\n",
    "from qiskit import QuantumCircuit, Aer, execute\n",
    "from qiskit.visualization import plot_histogram\n",
    "from qiskit.circuit.library import QFT\n",
    "seed(1)\n",
    "a = randint(2, N) # 1 < a < N\n",
    "\n",
    "if math.gcd(a, N) == 1: # a shares no factors\n",
    "    print(f\"{1} < {a} < {N}, {1 < a < N}\")\n",
    "else: # a shares a factor\n",
    "    P = gcd(a, N)\n",
    "    Q = N // gcd(a, N)\n",
    "    print(f\"P = {P}\\nQ = {Q}\\n\\n\",\n",
    "          f\"{P} x {Q} = {N}, {P * Q == N}\\n\")"
   ]
  },
  {
   "cell_type": "code",
   "execution_count": 200,
   "metadata": {},
   "outputs": [],
   "source": [
    "def initialize_qubits(qc, n, m):\n",
    "    qc.h(range(n)) # apply hadamard gates\n",
    "    qc.x(n+m-1) # set qubit to 1"
   ]
  },
  {
   "cell_type": "code",
   "execution_count": 201,
   "metadata": {},
   "outputs": [
    {
     "name": "stdout",
     "output_type": "stream",
     "text": [
      "Which in your case is\n",
      "\tU(x) = a^x mod 15\n"
     ]
    }
   ],
   "source": [
    "print(f\"Which in your case is\\n\\tU(x) = a^x mod {N}\")\n",
    "def a_x_mod15(a, x):\n",
    "    if a not in [2,7,8,11,13]:\n",
    "        raise ValueError(\"'a' must be 2,7,8,11 or 13\")\n",
    "    U = QuantumCircuit(4)        \n",
    "    for iteration in range(x):\n",
    "        if a in [2,13]:\n",
    "            U.swap(0,1)\n",
    "            U.swap(1,2)\n",
    "            U.swap(2,3)\n",
    "        if a in [7,8]:\n",
    "            U.swap(2,3)\n",
    "            U.swap(1,2)\n",
    "            U.swap(0,1)\n",
    "        if a == 11:\n",
    "            U.swap(1,3)\n",
    "            U.swap(0,2)\n",
    "        if a in [7,11,13]:\n",
    "            for q in range(4):\n",
    "                U.x(q)\n",
    "    U = U.to_gate()\n",
    "    U.name = f\"U({x})\"\n",
    "    c_U = U.control()\n",
    "    return c_U\n",
    "def modular_exponentiation(qc, n, m, a):\n",
    "    for x in range(n):\n",
    "        exponent = 2**x\n",
    "        qc.append(a_x_mod15(a, exponent), \n",
    "                     [x] + list(range(n, n+m)))"
   ]
  },
  {
   "cell_type": "code",
   "execution_count": 202,
   "metadata": {},
   "outputs": [],
   "source": [
    "def apply_iqft(qc, measurement_qubits):\n",
    "    qc.append(QFT(len(measurement_qubits),\n",
    "                             do_swaps=False).inverse(),\n",
    "                         measurement_qubits)"
   ]
  },
  {
   "cell_type": "code",
   "execution_count": 203,
   "metadata": {},
   "outputs": [],
   "source": [
    "def measure(qc, n):\n",
    "    qc.measure(n, n)"
   ]
  },
  {
   "cell_type": "code",
   "execution_count": 204,
   "metadata": {},
   "outputs": [],
   "source": [
    "def period_finder(n, m, a):\n",
    "    \n",
    "    # set up quantum circuit\n",
    "    qc = QuantumCircuit(n+m, n)\n",
    "    \n",
    "    # initialize the qubits\n",
    "    initialize_qubits(qc, n, m)\n",
    "    qc.barrier()\n",
    "\n",
    "    # apply modular exponentiation\n",
    "    modular_exponentiation(qc, n, m, a)\n",
    "    qc.barrier()\n",
    "\n",
    "    # apply inverse QFT\n",
    "    apply_iqft(qc, range(n))\n",
    "    qc.barrier()\n",
    "\n",
    "    # measure the n measurement qubits\n",
    "    measure(qc, range(n))\n",
    "    \n",
    "    return qc"
   ]
  },
  {
   "cell_type": "code",
   "execution_count": 205,
   "metadata": {},
   "outputs": [
    {
     "data": {
      "image/png": "[encoded data removed]",
      "text/plain": [
       "<Figure size 869.197x565.88 with 1 Axes>"
      ]
     },
     "execution_count": 205,
     "metadata": {},
     "output_type": "execute_result"
    }
   ],
   "source": [
    "n = 4; m = 4\n",
    "\n",
    "qc = period_finder(n, m, a)\n",
    "qc.draw(output='mpl')"
   ]
  },
  {
   "cell_type": "code",
   "execution_count": 206,
   "metadata": {},
   "outputs": [
    {
     "data": {
      "image/png": "[encoded data removed]",
      "text/plain": [
       "<Figure size 504x360 with 1 Axes>"
      ]
     },
     "execution_count": 206,
     "metadata": {},
     "output_type": "execute_result"
    }
   ],
   "source": [
    "simulator = Aer.get_backend('qasm_simulator')\n",
    "counts = execute(qc, backend=simulator).result().get_counts(qc)\n",
    "\n",
    "plot_histogram(counts)"
   ]
  },
  {
   "cell_type": "code",
   "execution_count": 207,
   "metadata": {},
   "outputs": [
    {
     "name": "stdout",
     "output_type": "stream",
     "text": [
      "Measured periods:\t0\t4\t5\t6\t7\t8\t9\t10\t11\t12\t13\t14\t15\t"
     ]
    }
   ],
   "source": [
    "# convert and add binary periods to list\n",
    "counts_dec = sorted([int(measured_value[::-1], 2)\n",
    "                     for measured_value in counts])\n",
    "\n",
    "print(\"Measured periods:\", end='\\t')\n",
    "for measured_value in counts_dec:\n",
    "    print(measured_value, end='\\t')"
   ]
  },
  {
   "cell_type": "code",
   "execution_count": 208,
   "metadata": {},
   "outputs": [
    {
     "name": "stdout",
     "output_type": "stream",
     "text": [
      "Measured periods:\t0\t4\t5\t6\t7\t8\t9\t10\t11\t12\t13\t14\t15\t"
     ]
    }
   ],
   "source": [
    "# convert and add binary periods to list\n",
    "counts_dec = sorted([int(measured_value[::-1], 2)\n",
    "                     for measured_value in counts])\n",
    "\n",
    "print(\"Measured periods:\", end='\\t')\n",
    "for measured_value in counts_dec:\n",
    "    print(measured_value, end='\\t')"
   ]
  },
  {
   "cell_type": "code",
   "execution_count": 209,
   "metadata": {},
   "outputs": [
    {
     "name": "stdout",
     "output_type": "stream",
     "text": [
      "P = 3\n",
      "Q = 5\n",
      "\n",
      " 3 x 5 = 15, True\n"
     ]
    }
   ],
   "source": [
    "factors = set()\n",
    "\n",
    "for x in periods:\n",
    "    guesses = [gcd(int((a ** (measured_value/2))) + 1, N),\n",
    "               gcd(int((a ** (measured_value/2))) - 1, N)]\n",
    "    for guess in guesses:\n",
    "        # ignore trivial factors\n",
    "        if guess != 1 and guess != N and N % guess == 0:\n",
    "            factors.add(guess)\n",
    "\n",
    "if len(factors):\n",
    "    P = factors.pop()\n",
    "    Q = factors.pop() if len(factors) else N // P\n",
    "    print(f\"P = {P}\\nQ = {Q}\\n\\n\",\n",
    "          f\"{P} x {Q} = {N}, {P * Q == N}\")\n",
    "else:\n",
    "    print(\"Shor's Algorithm Failed. Choose a different 'a'.\")"
   ]
  },
  {
   "cell_type": "code",
   "execution_count": null,
   "metadata": {},
   "outputs": [],
   "source": []
  },
  {
   "cell_type": "code",
   "execution_count": null,
   "metadata": {},
   "outputs": [],
   "source": []
  }
 ],
 "metadata": {
  "kernelspec": {
   "display_name": "Python 3",
   "language": "python",
   "name": "python3"
  },
  "language_info": {
   "codemirror_mode": {
    "name": "ipython",
    "version": 3
   },
   "file_extension": ".py",
   "mimetype": "text/x-python",
   "name": "python",
   "nbconvert_exporter": "python",
   "pygments_lexer": "ipython3",
   "version": "3.8.3"
  }
 },
 "nbformat": 4,
 "nbformat_minor": 4
}
